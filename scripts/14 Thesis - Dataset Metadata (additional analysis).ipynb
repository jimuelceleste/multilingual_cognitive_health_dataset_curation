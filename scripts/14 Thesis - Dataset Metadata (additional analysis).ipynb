{
 "cells": [
  {
   "cell_type": "markdown",
   "id": "20efa0b7-f6e2-4bec-b621-34b0b47f0502",
   "metadata": {},
   "source": [
    "# Thesis - Dataset Metadata (additional analysis)\n",
    "\n",
    "By: Jimuel Celeste, Jr. \n",
    "\n",
    "Objective: To describe the four datasets."
   ]
  },
  {
   "cell_type": "code",
   "execution_count": 23,
   "id": "a3bfc374-be67-40fd-ac29-6b16d73d78fc",
   "metadata": {},
   "outputs": [],
   "source": [
    "import os \n",
    "\n",
    "import pandas as pd\n",
    "import seaborn as sns"
   ]
  },
  {
   "cell_type": "code",
   "execution_count": 2,
   "id": "498ad9b2-c186-4614-a9fa-3383a7d8d5d6",
   "metadata": {},
   "outputs": [],
   "source": [
    "metadata = {\n",
    "    'adress': '/Users/jimuelcelestejr/Downloads/Dataset/Thesis - Metadata/adress_metadata.csv', \n",
    "    'adresso': '/Users/jimuelcelestejr/Downloads/Dataset/Thesis - Metadata/adresso_metadata.csv',\n",
    "    'adress-m': '/Users/jimuelcelestejr/Downloads/Dataset/Thesis - Metadata/adress-m_metadata.csv',\n",
    "    'taukadial': '/Users/jimuelcelestejr/Downloads/Dataset/Thesis - Metadata/taukadial_metadata.csv',\n",
    "}"
   ]
  },
  {
   "cell_type": "markdown",
   "id": "ef9319da-4e87-4e9e-8f84-a3d202ad535c",
   "metadata": {},
   "source": [
    "## ADReSS"
   ]
  },
  {
   "cell_type": "code",
   "execution_count": 3,
   "id": "1285e424-73c0-4ae9-9b31-2749cdca1e8c",
   "metadata": {},
   "outputs": [
    {
     "data": {
      "text/html": [
       "<div>\n",
       "<style scoped>\n",
       "    .dataframe tbody tr th:only-of-type {\n",
       "        vertical-align: middle;\n",
       "    }\n",
       "\n",
       "    .dataframe tbody tr th {\n",
       "        vertical-align: top;\n",
       "    }\n",
       "\n",
       "    .dataframe thead th {\n",
       "        text-align: right;\n",
       "    }\n",
       "</style>\n",
       "<table border=\"1\" class=\"dataframe\">\n",
       "  <thead>\n",
       "    <tr style=\"text-align: right;\">\n",
       "      <th></th>\n",
       "      <th>filename</th>\n",
       "      <th>record_id</th>\n",
       "      <th>subject_id</th>\n",
       "      <th>age</th>\n",
       "      <th>sex</th>\n",
       "      <th>mmse</th>\n",
       "      <th>dx</th>\n",
       "      <th>dx_binary</th>\n",
       "    </tr>\n",
       "  </thead>\n",
       "  <tbody>\n",
       "    <tr>\n",
       "      <th>0</th>\n",
       "      <td>S001.wav</td>\n",
       "      <td>S001</td>\n",
       "      <td>S001</td>\n",
       "      <td>74</td>\n",
       "      <td>M</td>\n",
       "      <td>NaN</td>\n",
       "      <td>NC</td>\n",
       "      <td>0</td>\n",
       "    </tr>\n",
       "    <tr>\n",
       "      <th>1</th>\n",
       "      <td>S002.wav</td>\n",
       "      <td>S002</td>\n",
       "      <td>S002</td>\n",
       "      <td>62</td>\n",
       "      <td>F</td>\n",
       "      <td>30.0</td>\n",
       "      <td>NC</td>\n",
       "      <td>0</td>\n",
       "    </tr>\n",
       "    <tr>\n",
       "      <th>2</th>\n",
       "      <td>S003.wav</td>\n",
       "      <td>S003</td>\n",
       "      <td>S003</td>\n",
       "      <td>69</td>\n",
       "      <td>F</td>\n",
       "      <td>29.0</td>\n",
       "      <td>NC</td>\n",
       "      <td>0</td>\n",
       "    </tr>\n",
       "    <tr>\n",
       "      <th>3</th>\n",
       "      <td>S004.wav</td>\n",
       "      <td>S004</td>\n",
       "      <td>S004</td>\n",
       "      <td>71</td>\n",
       "      <td>F</td>\n",
       "      <td>30.0</td>\n",
       "      <td>NC</td>\n",
       "      <td>0</td>\n",
       "    </tr>\n",
       "    <tr>\n",
       "      <th>4</th>\n",
       "      <td>S005.wav</td>\n",
       "      <td>S005</td>\n",
       "      <td>S005</td>\n",
       "      <td>74</td>\n",
       "      <td>F</td>\n",
       "      <td>30.0</td>\n",
       "      <td>NC</td>\n",
       "      <td>0</td>\n",
       "    </tr>\n",
       "  </tbody>\n",
       "</table>\n",
       "</div>"
      ],
      "text/plain": [
       "   filename record_id subject_id  age sex  mmse  dx  dx_binary\n",
       "0  S001.wav      S001       S001   74   M   NaN  NC          0\n",
       "1  S002.wav      S002       S002   62   F  30.0  NC          0\n",
       "2  S003.wav      S003       S003   69   F  29.0  NC          0\n",
       "3  S004.wav      S004       S004   71   F  30.0  NC          0\n",
       "4  S005.wav      S005       S005   74   F  30.0  NC          0"
      ]
     },
     "execution_count": 3,
     "metadata": {},
     "output_type": "execute_result"
    }
   ],
   "source": [
    "df = pd.read_csv('/Users/jimuelcelestejr/Downloads/Dataset/Thesis - Metadata/adress_metadata.csv')\n",
    "df.head()"
   ]
  },
  {
   "cell_type": "code",
   "execution_count": 5,
   "id": "80f4792f-3117-4171-8a81-42a7b61d4313",
   "metadata": {},
   "outputs": [
    {
     "data": {
      "text/plain": [
       "(156, 8)"
      ]
     },
     "execution_count": 5,
     "metadata": {},
     "output_type": "execute_result"
    }
   ],
   "source": [
    "df.shape"
   ]
  },
  {
   "cell_type": "code",
   "execution_count": 8,
   "id": "605ef939-15d7-4fc5-9b20-e4de49d50af4",
   "metadata": {},
   "outputs": [
    {
     "data": {
      "text/plain": [
       "156"
      ]
     },
     "execution_count": 8,
     "metadata": {},
     "output_type": "execute_result"
    }
   ],
   "source": [
    "len(df['subject_id'].unique())"
   ]
  },
  {
   "cell_type": "code",
   "execution_count": 9,
   "id": "cad3acd2-b447-4d1f-9d2d-6b5dc110a50e",
   "metadata": {},
   "outputs": [
    {
     "data": {
      "text/plain": [
       "sex\n",
       "F    86\n",
       "M    70\n",
       "Name: count, dtype: int64"
      ]
     },
     "execution_count": 9,
     "metadata": {},
     "output_type": "execute_result"
    }
   ],
   "source": [
    "df['sex'].value_counts()"
   ]
  },
  {
   "cell_type": "code",
   "execution_count": 11,
   "id": "5a5eb7d9-f9b2-4bea-ab45-7b71172244cc",
   "metadata": {},
   "outputs": [
    {
     "data": {
      "text/plain": [
       "sex\n",
       "F    55.128205\n",
       "M    44.871795\n",
       "Name: count, dtype: float64"
      ]
     },
     "execution_count": 11,
     "metadata": {},
     "output_type": "execute_result"
    }
   ],
   "source": [
    "df['sex'].value_counts() / len(df['subject_id'].unique()) * 100"
   ]
  },
  {
   "cell_type": "code",
   "execution_count": 13,
   "id": "85c1b10a-bf71-4080-914b-e672bdd49cc6",
   "metadata": {},
   "outputs": [
    {
     "data": {
      "text/plain": [
       "count    156.000000\n",
       "mean      66.423077\n",
       "std        6.717371\n",
       "min       50.000000\n",
       "25%       61.750000\n",
       "50%       67.000000\n",
       "75%       72.000000\n",
       "max       79.000000\n",
       "Name: age, dtype: float64"
      ]
     },
     "execution_count": 13,
     "metadata": {},
     "output_type": "execute_result"
    }
   ],
   "source": [
    "df['age'].describe()"
   ]
  },
  {
   "cell_type": "code",
   "execution_count": 15,
   "id": "aabfa08e-02ae-4383-9ea4-f20f3718703a",
   "metadata": {},
   "outputs": [
    {
     "data": {
      "text/plain": [
       "dx\n",
       "NC    78\n",
       "AD    78\n",
       "Name: count, dtype: int64"
      ]
     },
     "execution_count": 15,
     "metadata": {},
     "output_type": "execute_result"
    }
   ],
   "source": [
    "df['dx'].value_counts()"
   ]
  },
  {
   "cell_type": "code",
   "execution_count": 18,
   "id": "b712e7c8-4a24-4d25-8727-8e2b750a62aa",
   "metadata": {},
   "outputs": [
    {
     "data": {
      "text/plain": [
       "count    155.000000\n",
       "mean      23.367742\n",
       "std        6.897223\n",
       "min        1.000000\n",
       "25%       18.000000\n",
       "50%       27.000000\n",
       "75%       29.000000\n",
       "max       30.000000\n",
       "Name: mmse, dtype: float64"
      ]
     },
     "execution_count": 18,
     "metadata": {},
     "output_type": "execute_result"
    }
   ],
   "source": [
    "df['mmse'].dropna().describe()"
   ]
  },
  {
   "cell_type": "code",
   "execution_count": 24,
   "id": "a33b7c3c-c8fb-4b4a-b33d-58d3a9a3a86c",
   "metadata": {},
   "outputs": [
    {
     "data": {
      "text/plain": [
       "<Axes: xlabel='mmse', ylabel='Count'>"
      ]
     },
     "execution_count": 24,
     "metadata": {},
     "output_type": "execute_result"
    },
    {
     "data": {
      "image/png": "[encoded data removed]",
      "text/plain": [
       "<Figure size 640x480 with 1 Axes>"
      ]
     },
     "metadata": {},
     "output_type": "display_data"
    }
   ],
   "source": [
    "sns.histplot(df['mmse'].dropna())"
   ]
  },
  {
   "cell_type": "code",
   "execution_count": 26,
   "id": "a4460174-96ed-4b91-9209-146ea102d020",
   "metadata": {},
   "outputs": [
    {
     "data": {
      "text/plain": [
       "count    77.000000\n",
       "mean     29.012987\n",
       "std       1.175333\n",
       "min      24.000000\n",
       "25%      28.000000\n",
       "50%      29.000000\n",
       "75%      30.000000\n",
       "max      30.000000\n",
       "Name: mmse, dtype: float64"
      ]
     },
     "execution_count": 26,
     "metadata": {},
     "output_type": "execute_result"
    }
   ],
   "source": [
    "df[df['dx_binary']==0]['mmse'].dropna().describe()"
   ]
  },
  {
   "cell_type": "code",
   "execution_count": 27,
   "id": "13d584e2-303f-46c3-84de-8fd962dec1b6",
   "metadata": {},
   "outputs": [
    {
     "data": {
      "text/plain": [
       "count    78.000000\n",
       "mean     17.794872\n",
       "std       5.518232\n",
       "min       1.000000\n",
       "25%      14.000000\n",
       "50%      18.000000\n",
       "75%      21.750000\n",
       "max      30.000000\n",
       "Name: mmse, dtype: float64"
      ]
     },
     "execution_count": 27,
     "metadata": {},
     "output_type": "execute_result"
    }
   ],
   "source": [
    "df[df['dx_binary']==1]['mmse'].dropna().describe()"
   ]
  },
  {
   "cell_type": "markdown",
   "id": "e67b77b2-a3cb-441d-bfea-2ab32b197c98",
   "metadata": {},
   "source": [
    "## ADReSSo"
   ]
  },
  {
   "cell_type": "code",
   "execution_count": 42,
   "id": "54b92527-4bb0-45e3-845d-23c0c30cc59b",
   "metadata": {},
   "outputs": [
    {
     "data": {
      "text/html": [
       "<div>\n",
       "<style scoped>\n",
       "    .dataframe tbody tr th:only-of-type {\n",
       "        vertical-align: middle;\n",
       "    }\n",
       "\n",
       "    .dataframe tbody tr th {\n",
       "        vertical-align: top;\n",
       "    }\n",
       "\n",
       "    .dataframe thead th {\n",
       "        text-align: right;\n",
       "    }\n",
       "</style>\n",
       "<table border=\"1\" class=\"dataframe\">\n",
       "  <thead>\n",
       "    <tr style=\"text-align: right;\">\n",
       "      <th></th>\n",
       "      <th>filename</th>\n",
       "      <th>record_id</th>\n",
       "      <th>subject_id</th>\n",
       "      <th>mmse</th>\n",
       "      <th>dx</th>\n",
       "      <th>dx_binary</th>\n",
       "    </tr>\n",
       "  </thead>\n",
       "  <tbody>\n",
       "    <tr>\n",
       "      <th>0</th>\n",
       "      <td>adrso024.wav</td>\n",
       "      <td>adrso024</td>\n",
       "      <td>adrso024</td>\n",
       "      <td>20</td>\n",
       "      <td>AD</td>\n",
       "      <td>1</td>\n",
       "    </tr>\n",
       "    <tr>\n",
       "      <th>1</th>\n",
       "      <td>adrso025.wav</td>\n",
       "      <td>adrso025</td>\n",
       "      <td>adrso025</td>\n",
       "      <td>11</td>\n",
       "      <td>AD</td>\n",
       "      <td>1</td>\n",
       "    </tr>\n",
       "    <tr>\n",
       "      <th>2</th>\n",
       "      <td>adrso027.wav</td>\n",
       "      <td>adrso027</td>\n",
       "      <td>adrso027</td>\n",
       "      <td>18</td>\n",
       "      <td>AD</td>\n",
       "      <td>1</td>\n",
       "    </tr>\n",
       "    <tr>\n",
       "      <th>3</th>\n",
       "      <td>adrso028.wav</td>\n",
       "      <td>adrso028</td>\n",
       "      <td>adrso028</td>\n",
       "      <td>18</td>\n",
       "      <td>AD</td>\n",
       "      <td>1</td>\n",
       "    </tr>\n",
       "    <tr>\n",
       "      <th>4</th>\n",
       "      <td>adrso031.wav</td>\n",
       "      <td>adrso031</td>\n",
       "      <td>adrso031</td>\n",
       "      <td>26</td>\n",
       "      <td>AD</td>\n",
       "      <td>1</td>\n",
       "    </tr>\n",
       "  </tbody>\n",
       "</table>\n",
       "</div>"
      ],
      "text/plain": [
       "       filename record_id subject_id  mmse  dx  dx_binary\n",
       "0  adrso024.wav  adrso024   adrso024    20  AD          1\n",
       "1  adrso025.wav  adrso025   adrso025    11  AD          1\n",
       "2  adrso027.wav  adrso027   adrso027    18  AD          1\n",
       "3  adrso028.wav  adrso028   adrso028    18  AD          1\n",
       "4  adrso031.wav  adrso031   adrso031    26  AD          1"
      ]
     },
     "execution_count": 42,
     "metadata": {},
     "output_type": "execute_result"
    }
   ],
   "source": [
    "df = pd.read_csv('/Users/jimuelcelestejr/Downloads/Dataset/Thesis - Metadata/adresso_metadata.csv')\n",
    "df.head()"
   ]
  },
  {
   "cell_type": "code",
   "execution_count": 43,
   "id": "46b6ace2-ccba-40a2-be91-ef26d960e289",
   "metadata": {},
   "outputs": [
    {
     "data": {
      "text/plain": [
       "(237, 6)"
      ]
     },
     "execution_count": 43,
     "metadata": {},
     "output_type": "execute_result"
    }
   ],
   "source": [
    "df.shape"
   ]
  },
  {
   "cell_type": "code",
   "execution_count": 44,
   "id": "9ce9eb50-35f1-4018-9815-9d4bf7fb2b4f",
   "metadata": {},
   "outputs": [
    {
     "data": {
      "text/plain": [
       "237"
      ]
     },
     "execution_count": 44,
     "metadata": {},
     "output_type": "execute_result"
    }
   ],
   "source": [
    "len(df['subject_id'].unique())"
   ]
  },
  {
   "cell_type": "code",
   "execution_count": 45,
   "id": "719ca939-2619-49c9-99ce-37cc7d7d8ba4",
   "metadata": {},
   "outputs": [],
   "source": [
    "# df['sex'].value_counts()"
   ]
  },
  {
   "cell_type": "code",
   "execution_count": 46,
   "id": "d1b29b49-7a08-4635-969a-186ea497cb08",
   "metadata": {},
   "outputs": [
    {
     "data": {
      "text/plain": [
       "dx\n",
       "NC             115\n",
       "AD              87\n",
       "Probable AD     35\n",
       "Name: count, dtype: int64"
      ]
     },
     "execution_count": 46,
     "metadata": {},
     "output_type": "execute_result"
    }
   ],
   "source": [
    "df['dx'].value_counts()"
   ]
  },
  {
   "cell_type": "code",
   "execution_count": 47,
   "id": "d9bcf2c2-6146-4899-b093-f9a27340025d",
   "metadata": {},
   "outputs": [
    {
     "data": {
      "text/plain": [
       "122"
      ]
     },
     "execution_count": 47,
     "metadata": {},
     "output_type": "execute_result"
    }
   ],
   "source": [
    "87 + 35"
   ]
  },
  {
   "cell_type": "code",
   "execution_count": 48,
   "id": "e8e7e1a9-4c95-4807-8948-e705deffa0f3",
   "metadata": {},
   "outputs": [
    {
     "data": {
      "text/plain": [
       "dx\n",
       "NC             48.523207\n",
       "AD             36.708861\n",
       "Probable AD    14.767932\n",
       "Name: count, dtype: float64"
      ]
     },
     "execution_count": 48,
     "metadata": {},
     "output_type": "execute_result"
    }
   ],
   "source": [
    "df['dx'].value_counts() / len(df['subject_id'].unique()) * 100"
   ]
  },
  {
   "cell_type": "code",
   "execution_count": 49,
   "id": "9b884e4c-31c9-46bd-92bb-ce0b993ec788",
   "metadata": {},
   "outputs": [
    {
     "data": {
      "text/plain": [
       "51.476793"
      ]
     },
     "execution_count": 49,
     "metadata": {},
     "output_type": "execute_result"
    }
   ],
   "source": [
    "36.708861 + 14.767932"
   ]
  },
  {
   "cell_type": "code",
   "execution_count": 50,
   "id": "07d6a8ec-b6ff-436e-b21b-4d3f94feebab",
   "metadata": {},
   "outputs": [
    {
     "data": {
      "text/html": [
       "<div>\n",
       "<style scoped>\n",
       "    .dataframe tbody tr th:only-of-type {\n",
       "        vertical-align: middle;\n",
       "    }\n",
       "\n",
       "    .dataframe tbody tr th {\n",
       "        vertical-align: top;\n",
       "    }\n",
       "\n",
       "    .dataframe thead th {\n",
       "        text-align: right;\n",
       "    }\n",
       "</style>\n",
       "<table border=\"1\" class=\"dataframe\">\n",
       "  <thead>\n",
       "    <tr style=\"text-align: right;\">\n",
       "      <th></th>\n",
       "      <th>filename</th>\n",
       "      <th>record_id</th>\n",
       "      <th>subject_id</th>\n",
       "      <th>mmse</th>\n",
       "      <th>dx</th>\n",
       "      <th>dx_binary</th>\n",
       "    </tr>\n",
       "  </thead>\n",
       "  <tbody>\n",
       "  </tbody>\n",
       "</table>\n",
       "</div>"
      ],
      "text/plain": [
       "Empty DataFrame\n",
       "Columns: [filename, record_id, subject_id, mmse, dx, dx_binary]\n",
       "Index: []"
      ]
     },
     "execution_count": 50,
     "metadata": {},
     "output_type": "execute_result"
    }
   ],
   "source": [
    "df[df['mmse'].isna()]"
   ]
  },
  {
   "cell_type": "code",
   "execution_count": 51,
   "id": "791caf3c-37dd-4561-8cdd-4e3e28633e5f",
   "metadata": {},
   "outputs": [
    {
     "data": {
      "text/plain": [
       "count    237.000000\n",
       "mean      23.232068\n",
       "std        6.856346\n",
       "min        3.000000\n",
       "25%       18.000000\n",
       "50%       26.000000\n",
       "75%       29.000000\n",
       "max       30.000000\n",
       "Name: mmse, dtype: float64"
      ]
     },
     "execution_count": 51,
     "metadata": {},
     "output_type": "execute_result"
    }
   ],
   "source": [
    "df['mmse'].dropna().describe()"
   ]
  },
  {
   "cell_type": "code",
   "execution_count": 52,
   "id": "33586b71-1b0d-4bcc-b5f9-9693af481715",
   "metadata": {},
   "outputs": [
    {
     "data": {
      "text/plain": [
       "count    115.000000\n",
       "mean      28.947826\n",
       "std        1.183538\n",
       "min       24.000000\n",
       "25%       28.000000\n",
       "50%       29.000000\n",
       "75%       30.000000\n",
       "max       30.000000\n",
       "Name: mmse, dtype: float64"
      ]
     },
     "execution_count": 52,
     "metadata": {},
     "output_type": "execute_result"
    }
   ],
   "source": [
    "df[df['dx_binary']==0]['mmse'].dropna().describe()"
   ]
  },
  {
   "cell_type": "code",
   "execution_count": 53,
   "id": "6a490855-dc4f-44ae-b000-4ae52fe9370d",
   "metadata": {},
   "outputs": [
    {
     "data": {
      "text/plain": [
       "count    122.000000\n",
       "mean      17.844262\n",
       "std        5.481781\n",
       "min        3.000000\n",
       "25%       14.000000\n",
       "50%       18.500000\n",
       "75%       21.750000\n",
       "max       30.000000\n",
       "Name: mmse, dtype: float64"
      ]
     },
     "execution_count": 53,
     "metadata": {},
     "output_type": "execute_result"
    }
   ],
   "source": [
    "df[df['dx_binary']==1]['mmse'].dropna().describe()"
   ]
  },
  {
   "cell_type": "markdown",
   "id": "33c9549a-a5ee-4fb2-bedd-439effeac3e5",
   "metadata": {},
   "source": [
    "## ADReSS-M"
   ]
  },
  {
   "cell_type": "code",
   "execution_count": 54,
   "id": "cd99155e-6590-4e06-aa98-26221d45d5be",
   "metadata": {},
   "outputs": [
    {
     "data": {
      "text/html": [
       "<div>\n",
       "<style scoped>\n",
       "    .dataframe tbody tr th:only-of-type {\n",
       "        vertical-align: middle;\n",
       "    }\n",
       "\n",
       "    .dataframe tbody tr th {\n",
       "        vertical-align: top;\n",
       "    }\n",
       "\n",
       "    .dataframe thead th {\n",
       "        text-align: right;\n",
       "    }\n",
       "</style>\n",
       "<table border=\"1\" class=\"dataframe\">\n",
       "  <thead>\n",
       "    <tr style=\"text-align: right;\">\n",
       "      <th></th>\n",
       "      <th>filename</th>\n",
       "      <th>record_id</th>\n",
       "      <th>subject_id</th>\n",
       "      <th>age</th>\n",
       "      <th>sex</th>\n",
       "      <th>educ</th>\n",
       "      <th>mmse</th>\n",
       "      <th>dx</th>\n",
       "      <th>dx_binary</th>\n",
       "    </tr>\n",
       "  </thead>\n",
       "  <tbody>\n",
       "    <tr>\n",
       "      <th>0</th>\n",
       "      <td>adrso002.mp3</td>\n",
       "      <td>adrso002</td>\n",
       "      <td>adrso002</td>\n",
       "      <td>70</td>\n",
       "      <td>F</td>\n",
       "      <td>NaN</td>\n",
       "      <td>26.0</td>\n",
       "      <td>NC</td>\n",
       "      <td>0</td>\n",
       "    </tr>\n",
       "    <tr>\n",
       "      <th>1</th>\n",
       "      <td>adrso003.mp3</td>\n",
       "      <td>adrso003</td>\n",
       "      <td>adrso003</td>\n",
       "      <td>72</td>\n",
       "      <td>F</td>\n",
       "      <td>NaN</td>\n",
       "      <td>30.0</td>\n",
       "      <td>NC</td>\n",
       "      <td>0</td>\n",
       "    </tr>\n",
       "    <tr>\n",
       "      <th>2</th>\n",
       "      <td>adrso004.mp3</td>\n",
       "      <td>adrso004</td>\n",
       "      <td>adrso004</td>\n",
       "      <td>74</td>\n",
       "      <td>F</td>\n",
       "      <td>NaN</td>\n",
       "      <td>30.0</td>\n",
       "      <td>NC</td>\n",
       "      <td>0</td>\n",
       "    </tr>\n",
       "    <tr>\n",
       "      <th>3</th>\n",
       "      <td>adrso005.mp3</td>\n",
       "      <td>adrso005</td>\n",
       "      <td>adrso005</td>\n",
       "      <td>67</td>\n",
       "      <td>F</td>\n",
       "      <td>NaN</td>\n",
       "      <td>27.0</td>\n",
       "      <td>NC</td>\n",
       "      <td>0</td>\n",
       "    </tr>\n",
       "    <tr>\n",
       "      <th>4</th>\n",
       "      <td>adrso006.mp3</td>\n",
       "      <td>adrso006</td>\n",
       "      <td>adrso006</td>\n",
       "      <td>65</td>\n",
       "      <td>F</td>\n",
       "      <td>NaN</td>\n",
       "      <td>28.0</td>\n",
       "      <td>NC</td>\n",
       "      <td>0</td>\n",
       "    </tr>\n",
       "  </tbody>\n",
       "</table>\n",
       "</div>"
      ],
      "text/plain": [
       "       filename record_id subject_id  age sex  educ  mmse  dx  dx_binary\n",
       "0  adrso002.mp3  adrso002   adrso002   70   F   NaN  26.0  NC          0\n",
       "1  adrso003.mp3  adrso003   adrso003   72   F   NaN  30.0  NC          0\n",
       "2  adrso004.mp3  adrso004   adrso004   74   F   NaN  30.0  NC          0\n",
       "3  adrso005.mp3  adrso005   adrso005   67   F   NaN  27.0  NC          0\n",
       "4  adrso006.mp3  adrso006   adrso006   65   F   NaN  28.0  NC          0"
      ]
     },
     "execution_count": 54,
     "metadata": {},
     "output_type": "execute_result"
    }
   ],
   "source": [
    "df = pd.read_csv('/Users/jimuelcelestejr/Downloads/Dataset/Thesis - Metadata/adress-m_metadata.csv')\n",
    "df.head()"
   ]
  },
  {
   "cell_type": "code",
   "execution_count": 55,
   "id": "00dbbe73-7d96-4e22-8db3-409c3d649776",
   "metadata": {},
   "outputs": [
    {
     "data": {
      "text/plain": [
       "(291, 9)"
      ]
     },
     "execution_count": 55,
     "metadata": {},
     "output_type": "execute_result"
    }
   ],
   "source": [
    "df.shape"
   ]
  },
  {
   "cell_type": "code",
   "execution_count": 56,
   "id": "5a56e123-39df-452a-af4a-932bb1522d6b",
   "metadata": {},
   "outputs": [
    {
     "data": {
      "text/plain": [
       "291"
      ]
     },
     "execution_count": 56,
     "metadata": {},
     "output_type": "execute_result"
    }
   ],
   "source": [
    "len(df['subject_id'].unique())"
   ]
  },
  {
   "cell_type": "code",
   "execution_count": 57,
   "id": "0c14ef41-ccd3-437e-a2ae-573d8fb18cf2",
   "metadata": {},
   "outputs": [
    {
     "data": {
      "text/plain": [
       "sex\n",
       "F    195\n",
       "M     96\n",
       "Name: count, dtype: int64"
      ]
     },
     "execution_count": 57,
     "metadata": {},
     "output_type": "execute_result"
    }
   ],
   "source": [
    "df['sex'].value_counts()"
   ]
  },
  {
   "cell_type": "code",
   "execution_count": 58,
   "id": "8e21668c-ea44-4a6f-b3e3-203f4157d4e2",
   "metadata": {},
   "outputs": [
    {
     "data": {
      "text/plain": [
       "sex\n",
       "F    67.010309\n",
       "M    32.989691\n",
       "Name: count, dtype: float64"
      ]
     },
     "execution_count": 58,
     "metadata": {},
     "output_type": "execute_result"
    }
   ],
   "source": [
    "df['sex'].value_counts() / len(df['subject_id'].unique()) * 100"
   ]
  },
  {
   "cell_type": "code",
   "execution_count": 59,
   "id": "aa513192-94fa-4a04-bdf0-14c8a17493fa",
   "metadata": {},
   "outputs": [
    {
     "data": {
      "text/plain": [
       "0"
      ]
     },
     "execution_count": 59,
     "metadata": {},
     "output_type": "execute_result"
    }
   ],
   "source": [
    "df['sex'].isna().sum()"
   ]
  },
  {
   "cell_type": "code",
   "execution_count": 60,
   "id": "bf9a9252-143e-4a43-82df-9af90468a9b3",
   "metadata": {},
   "outputs": [
    {
     "data": {
      "text/plain": [
       "count    291.000000\n",
       "mean      68.065292\n",
       "std        7.011262\n",
       "min       52.000000\n",
       "25%       63.000000\n",
       "50%       68.000000\n",
       "75%       74.000000\n",
       "max       86.000000\n",
       "Name: age, dtype: float64"
      ]
     },
     "execution_count": 60,
     "metadata": {},
     "output_type": "execute_result"
    }
   ],
   "source": [
    "df['age'].describe()"
   ]
  },
  {
   "cell_type": "code",
   "execution_count": 61,
   "id": "ccfd0469-cca3-460f-8b82-262fe0219f32",
   "metadata": {},
   "outputs": [
    {
     "data": {
      "text/plain": [
       "0"
      ]
     },
     "execution_count": 61,
     "metadata": {},
     "output_type": "execute_result"
    }
   ],
   "source": [
    "df['age'].isna().sum()"
   ]
  },
  {
   "cell_type": "code",
   "execution_count": 63,
   "id": "f3dd041b-3e87-42a5-9f0a-acec81be778a",
   "metadata": {},
   "outputs": [
    {
     "data": {
      "text/plain": [
       "dx\n",
       "Probable AD    148\n",
       "NC             143\n",
       "Name: count, dtype: int64"
      ]
     },
     "execution_count": 63,
     "metadata": {},
     "output_type": "execute_result"
    }
   ],
   "source": [
    "df['dx'].value_counts()"
   ]
  },
  {
   "cell_type": "code",
   "execution_count": 64,
   "id": "f9557270-8c8b-4e9e-b9f1-9c140bdc576b",
   "metadata": {},
   "outputs": [
    {
     "data": {
      "text/plain": [
       "dx\n",
       "Probable AD    50.859107\n",
       "NC             49.140893\n",
       "Name: count, dtype: float64"
      ]
     },
     "execution_count": 64,
     "metadata": {},
     "output_type": "execute_result"
    }
   ],
   "source": [
    "df['dx'].value_counts() / len(df['subject_id'].unique()) * 100"
   ]
  },
  {
   "cell_type": "code",
   "execution_count": 65,
   "id": "8345b476-d850-40da-9e1e-fd47be59beb1",
   "metadata": {},
   "outputs": [
    {
     "data": {
      "text/plain": [
       "1"
      ]
     },
     "execution_count": 65,
     "metadata": {},
     "output_type": "execute_result"
    }
   ],
   "source": [
    "df['mmse'].isna().sum()"
   ]
  },
  {
   "cell_type": "code",
   "execution_count": 69,
   "id": "c85928ac-c656-4a32-9c26-40b76c268c53",
   "metadata": {},
   "outputs": [
    {
     "data": {
      "text/plain": [
       "count    290.000000\n",
       "mean      23.582759\n",
       "std        6.607250\n",
       "min        3.000000\n",
       "25%       19.000000\n",
       "50%       26.000000\n",
       "75%       29.000000\n",
       "max       30.000000\n",
       "Name: mmse, dtype: float64"
      ]
     },
     "execution_count": 69,
     "metadata": {},
     "output_type": "execute_result"
    }
   ],
   "source": [
    "df['mmse'].dropna().describe()"
   ]
  },
  {
   "cell_type": "code",
   "execution_count": 66,
   "id": "bab84364-17dc-4f28-94a7-7a667e5502ca",
   "metadata": {},
   "outputs": [
    {
     "data": {
      "text/plain": [
       "count    142.000000\n",
       "mean      28.964789\n",
       "std        1.157228\n",
       "min       24.000000\n",
       "25%       28.000000\n",
       "50%       29.000000\n",
       "75%       30.000000\n",
       "max       30.000000\n",
       "Name: mmse, dtype: float64"
      ]
     },
     "execution_count": 66,
     "metadata": {},
     "output_type": "execute_result"
    }
   ],
   "source": [
    "df[df['dx_binary']==0]['mmse'].dropna().describe()"
   ]
  },
  {
   "cell_type": "code",
   "execution_count": 68,
   "id": "c47bf757-cb41-4a4f-9de5-496ee7358123",
   "metadata": {},
   "outputs": [
    {
     "data": {
      "text/plain": [
       "count    148.000000\n",
       "mean      18.418919\n",
       "std        5.451098\n",
       "min        3.000000\n",
       "25%       15.000000\n",
       "50%       19.000000\n",
       "75%       23.000000\n",
       "max       30.000000\n",
       "Name: mmse, dtype: float64"
      ]
     },
     "execution_count": 68,
     "metadata": {},
     "output_type": "execute_result"
    }
   ],
   "source": [
    "df[df['dx_binary']==1]['mmse'].dropna().describe()"
   ]
  },
  {
   "cell_type": "markdown",
   "id": "a2a4c904-4ff4-47f8-9348-5f41beb8eb0c",
   "metadata": {},
   "source": [
    "## TAUKADIAL"
   ]
  },
  {
   "cell_type": "code",
   "execution_count": 70,
   "id": "fa27e637-0feb-4e56-83a7-bba80dffb2c6",
   "metadata": {},
   "outputs": [
    {
     "data": {
      "text/html": [
       "<div>\n",
       "<style scoped>\n",
       "    .dataframe tbody tr th:only-of-type {\n",
       "        vertical-align: middle;\n",
       "    }\n",
       "\n",
       "    .dataframe tbody tr th {\n",
       "        vertical-align: top;\n",
       "    }\n",
       "\n",
       "    .dataframe thead th {\n",
       "        text-align: right;\n",
       "    }\n",
       "</style>\n",
       "<table border=\"1\" class=\"dataframe\">\n",
       "  <thead>\n",
       "    <tr style=\"text-align: right;\">\n",
       "      <th></th>\n",
       "      <th>filename</th>\n",
       "      <th>record_id</th>\n",
       "      <th>subject_id</th>\n",
       "      <th>age</th>\n",
       "      <th>sex</th>\n",
       "      <th>mmse</th>\n",
       "      <th>dx</th>\n",
       "      <th>dx_binary</th>\n",
       "    </tr>\n",
       "  </thead>\n",
       "  <tbody>\n",
       "    <tr>\n",
       "      <th>0</th>\n",
       "      <td>taukdial-001-1.wav</td>\n",
       "      <td>taukdial-001-1</td>\n",
       "      <td>taukdial-001</td>\n",
       "      <td>70</td>\n",
       "      <td>F</td>\n",
       "      <td>27</td>\n",
       "      <td>NC</td>\n",
       "      <td>0</td>\n",
       "    </tr>\n",
       "    <tr>\n",
       "      <th>1</th>\n",
       "      <td>taukdial-001-2.wav</td>\n",
       "      <td>taukdial-001-2</td>\n",
       "      <td>taukdial-001</td>\n",
       "      <td>70</td>\n",
       "      <td>F</td>\n",
       "      <td>27</td>\n",
       "      <td>NC</td>\n",
       "      <td>0</td>\n",
       "    </tr>\n",
       "    <tr>\n",
       "      <th>2</th>\n",
       "      <td>taukdial-001-3.wav</td>\n",
       "      <td>taukdial-001-3</td>\n",
       "      <td>taukdial-001</td>\n",
       "      <td>70</td>\n",
       "      <td>F</td>\n",
       "      <td>27</td>\n",
       "      <td>NC</td>\n",
       "      <td>0</td>\n",
       "    </tr>\n",
       "    <tr>\n",
       "      <th>3</th>\n",
       "      <td>taukdial-002-1.wav</td>\n",
       "      <td>taukdial-002-1</td>\n",
       "      <td>taukdial-002</td>\n",
       "      <td>72</td>\n",
       "      <td>F</td>\n",
       "      <td>29</td>\n",
       "      <td>NC</td>\n",
       "      <td>0</td>\n",
       "    </tr>\n",
       "    <tr>\n",
       "      <th>4</th>\n",
       "      <td>taukdial-002-2.wav</td>\n",
       "      <td>taukdial-002-2</td>\n",
       "      <td>taukdial-002</td>\n",
       "      <td>72</td>\n",
       "      <td>F</td>\n",
       "      <td>29</td>\n",
       "      <td>NC</td>\n",
       "      <td>0</td>\n",
       "    </tr>\n",
       "  </tbody>\n",
       "</table>\n",
       "</div>"
      ],
      "text/plain": [
       "             filename       record_id    subject_id  age sex  mmse  dx  \\\n",
       "0  taukdial-001-1.wav  taukdial-001-1  taukdial-001   70   F    27  NC   \n",
       "1  taukdial-001-2.wav  taukdial-001-2  taukdial-001   70   F    27  NC   \n",
       "2  taukdial-001-3.wav  taukdial-001-3  taukdial-001   70   F    27  NC   \n",
       "3  taukdial-002-1.wav  taukdial-002-1  taukdial-002   72   F    29  NC   \n",
       "4  taukdial-002-2.wav  taukdial-002-2  taukdial-002   72   F    29  NC   \n",
       "\n",
       "   dx_binary  \n",
       "0          0  \n",
       "1          0  \n",
       "2          0  \n",
       "3          0  \n",
       "4          0  "
      ]
     },
     "execution_count": 70,
     "metadata": {},
     "output_type": "execute_result"
    }
   ],
   "source": [
    "df = pd.read_csv('/Users/jimuelcelestejr/Downloads/Dataset/Thesis - Metadata/taukadial_metadata.csv')\n",
    "df.head()"
   ]
  },
  {
   "cell_type": "code",
   "execution_count": 71,
   "id": "f755c1da-45a1-4dc9-8a32-3f17c0931918",
   "metadata": {},
   "outputs": [
    {
     "data": {
      "text/plain": [
       "(507, 8)"
      ]
     },
     "execution_count": 71,
     "metadata": {},
     "output_type": "execute_result"
    }
   ],
   "source": [
    "df.shape"
   ]
  },
  {
   "cell_type": "code",
   "execution_count": 72,
   "id": "3cfe64bc-fc7c-4271-b9f3-82e5ebc177da",
   "metadata": {},
   "outputs": [
    {
     "data": {
      "text/plain": [
       "169"
      ]
     },
     "execution_count": 72,
     "metadata": {},
     "output_type": "execute_result"
    }
   ],
   "source": [
    "len(df['subject_id'].unique())"
   ]
  },
  {
   "cell_type": "code",
   "execution_count": 79,
   "id": "b8d54917-c2fe-4588-bf0c-9c01e13a70ea",
   "metadata": {},
   "outputs": [
    {
     "data": {
      "text/plain": [
       "sex\n",
       "F    101\n",
       "M     68\n",
       "Name: count, dtype: int64"
      ]
     },
     "execution_count": 79,
     "metadata": {},
     "output_type": "execute_result"
    }
   ],
   "source": [
    "df.drop_duplicates(subset=['subject_id'], keep='first')['sex'].value_counts()"
   ]
  },
  {
   "cell_type": "code",
   "execution_count": 80,
   "id": "dbd46276-d43f-4ad3-839c-67dedb501fb1",
   "metadata": {},
   "outputs": [
    {
     "data": {
      "text/plain": [
       "0.5976331360946746"
      ]
     },
     "execution_count": 80,
     "metadata": {},
     "output_type": "execute_result"
    }
   ],
   "source": [
    "101 / 169"
   ]
  },
  {
   "cell_type": "code",
   "execution_count": 81,
   "id": "3d85d966-165f-4553-80f5-22ba9dfb86dc",
   "metadata": {},
   "outputs": [
    {
     "data": {
      "text/plain": [
       "0"
      ]
     },
     "execution_count": 81,
     "metadata": {},
     "output_type": "execute_result"
    }
   ],
   "source": [
    "df['sex'].isna().sum()"
   ]
  },
  {
   "cell_type": "code",
   "execution_count": 82,
   "id": "dee6bab2-7e91-4f9d-aa3a-1234fc0231df",
   "metadata": {},
   "outputs": [
    {
     "data": {
      "text/plain": [
       "0"
      ]
     },
     "execution_count": 82,
     "metadata": {},
     "output_type": "execute_result"
    }
   ],
   "source": [
    "df['age'].isna().sum()"
   ]
  },
  {
   "cell_type": "code",
   "execution_count": 84,
   "id": "fd3ea975-1d43-4ebf-809d-d634dffaecae",
   "metadata": {},
   "outputs": [
    {
     "data": {
      "text/plain": [
       "count    169.000000\n",
       "mean      72.798817\n",
       "std        7.095085\n",
       "min       59.000000\n",
       "25%       67.000000\n",
       "50%       73.000000\n",
       "75%       78.000000\n",
       "max       91.000000\n",
       "Name: age, dtype: float64"
      ]
     },
     "execution_count": 84,
     "metadata": {},
     "output_type": "execute_result"
    }
   ],
   "source": [
    "df.drop_duplicates(subset=['subject_id'], keep='first')['age'].describe()"
   ]
  },
  {
   "cell_type": "code",
   "execution_count": 85,
   "id": "bd8e19d7-fefc-410d-93f0-455d13b1b7e8",
   "metadata": {},
   "outputs": [
    {
     "data": {
      "text/plain": [
       "dx\n",
       "MCI    285\n",
       "NC     222\n",
       "Name: count, dtype: int64"
      ]
     },
     "execution_count": 85,
     "metadata": {},
     "output_type": "execute_result"
    }
   ],
   "source": [
    "df['dx'].value_counts()"
   ]
  },
  {
   "cell_type": "code",
   "execution_count": 86,
   "id": "04732078-98d2-4f4f-929c-2d06d39008e3",
   "metadata": {},
   "outputs": [
    {
     "data": {
      "text/plain": [
       "0"
      ]
     },
     "execution_count": 86,
     "metadata": {},
     "output_type": "execute_result"
    }
   ],
   "source": [
    "df['mmse'].isna().sum()"
   ]
  },
  {
   "cell_type": "code",
   "execution_count": 87,
   "id": "aac110c7-a5d7-4e4e-bc91-fe6ffc37f16a",
   "metadata": {},
   "outputs": [
    {
     "data": {
      "text/plain": [
       "count    507.000000\n",
       "mean      27.254438\n",
       "std        3.234014\n",
       "min       13.000000\n",
       "25%       27.000000\n",
       "50%       28.000000\n",
       "75%       29.000000\n",
       "max       30.000000\n",
       "Name: mmse, dtype: float64"
      ]
     },
     "execution_count": 87,
     "metadata": {},
     "output_type": "execute_result"
    }
   ],
   "source": [
    "df['mmse'].describe()"
   ]
  },
  {
   "cell_type": "code",
   "execution_count": 88,
   "id": "0ed35a82-e3ee-47b2-b3d4-13e146dbf620",
   "metadata": {},
   "outputs": [
    {
     "data": {
      "text/plain": [
       "count    222.000000\n",
       "mean      29.067568\n",
       "std        1.072036\n",
       "min       25.000000\n",
       "25%       29.000000\n",
       "50%       29.000000\n",
       "75%       30.000000\n",
       "max       30.000000\n",
       "Name: mmse, dtype: float64"
      ]
     },
     "execution_count": 88,
     "metadata": {},
     "output_type": "execute_result"
    }
   ],
   "source": [
    "df[df['dx_binary']==0]['mmse'].dropna().describe()"
   ]
  },
  {
   "cell_type": "code",
   "execution_count": 90,
   "id": "eefcac72-ae49-44a3-b4c3-1a20e41c3e12",
   "metadata": {},
   "outputs": [
    {
     "data": {
      "text/plain": [
       "count    285.000000\n",
       "mean      25.842105\n",
       "std        3.628863\n",
       "min       13.000000\n",
       "25%       25.000000\n",
       "50%       27.000000\n",
       "75%       28.000000\n",
       "max       30.000000\n",
       "Name: mmse, dtype: float64"
      ]
     },
     "execution_count": 90,
     "metadata": {},
     "output_type": "execute_result"
    }
   ],
   "source": [
    "df[df['dx_binary']==1]['mmse'].dropna().describe()"
   ]
  },
  {
   "cell_type": "code",
   "execution_count": null,
   "id": "ab3b5e47-ec68-4d03-a342-d79941fde64e",
   "metadata": {},
   "outputs": [],
   "source": []
  }
 ],
 "metadata": {
  "kernelspec": {
   "display_name": "Python 3 (ipykernel)",
   "language": "python",
   "name": "python3"
  },
  "language_info": {
   "codemirror_mode": {
    "name": "ipython",
    "version": 3
   },
   "file_extension": ".py",
   "mimetype": "text/x-python",
   "name": "python",
   "nbconvert_exporter": "python",
   "pygments_lexer": "ipython3",
   "version": "3.9.21"
  }
 },
 "nbformat": 4,
 "nbformat_minor": 5
}
