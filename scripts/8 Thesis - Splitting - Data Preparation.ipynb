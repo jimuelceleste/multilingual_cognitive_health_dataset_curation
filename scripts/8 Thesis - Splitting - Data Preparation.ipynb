{
 "cells": [
  {
   "cell_type": "markdown",
   "id": "19500778-2e2b-49b3-9aae-37f0a86cc0a1",
   "metadata": {},
   "source": [
    "# Data Preparation - Splitting\n",
    "\n",
    "By: Jimuel Celeste, Jr. \n",
    "\n",
    "Objective: To split the combined dataset into two for internal cross-validation and external validation."
   ]
  },
  {
   "cell_type": "code",
   "execution_count": 1,
   "id": "0e403834-ac03-4c65-8a75-25239e143f8e",
   "metadata": {},
   "outputs": [],
   "source": [
    "import os \n",
    "\n",
    "import pandas as pd"
   ]
  },
  {
   "cell_type": "code",
   "execution_count": 2,
   "id": "2a350cdc-3a38-4150-9880-b7c16f1150a1",
   "metadata": {},
   "outputs": [],
   "source": [
    "feature_sets = {\n",
    "    'eGeMAPS': '/Users/jimuelcelestejr/Downloads/Dataset/Thesis - Features/Thesis - Acoustic Features/egemaps_functionals', \n",
    "    'BoAW ComParE 2016': '/Users/jimuelcelestejr/Downloads/Dataset/Thesis - Features/Thesis - Acoustic Features/boaw_size_200_compare_2016_lld', \n",
    "    'LFTK': '/Users/jimuelcelestejr/Downloads/Dataset/Thesis - Features/Thesis - Linguistic Features/lftk_features',\n",
    "    'LFTK Syntax': '/Users/jimuelcelestejr/Downloads/Dataset/Thesis - Features/Thesis - Linguistic Features/syntax_features',\n",
    "    'LFTK Discourse': '/Users/jimuelcelestejr/Downloads/Dataset/Thesis - Features/Thesis - Linguistic Features/discourse_features',\n",
    "    'LFTK Lexico-Semantics': '/Users/jimuelcelestejr/Downloads/Dataset/Thesis - Features/Thesis - Linguistic Features/lexico_semantics_features',\n",
    "    'LFTK Surface': '/Users/jimuelcelestejr/Downloads/Dataset/Thesis - Features/Thesis - Linguistic Features/surface_features',\n",
    "    'BERT': '/Users/jimuelcelestejr/Downloads/Dataset/Thesis - Features/Thesis - BERT Features', \n",
    "    'wav2vec': '/Users/jimuelcelestejr/Downloads/Dataset/Thesis - Features/Thesis - wav2vec Features'\n",
    "}"
   ]
  },
  {
   "cell_type": "code",
   "execution_count": 3,
   "id": "97e43738-2918-40b0-bca4-28610105ea33",
   "metadata": {},
   "outputs": [
    {
     "name": "stdout",
     "output_type": "stream",
     "text": [
      "eGeMAPS ok\n",
      "BoAW ComParE 2016 ok\n",
      "LFTK ok\n",
      "LFTK Syntax ok\n",
      "LFTK Discourse ok\n",
      "LFTK Lexico-Semantics ok\n",
      "LFTK Surface ok\n",
      "BERT ok\n",
      "wav2vec ok\n"
     ]
    }
   ],
   "source": [
    "# check if metadata exists in the folds\n",
    "for feature_set in feature_sets:\n",
    "    metadata = os.path.join(feature_sets[feature_set], 'metadata.csv')\n",
    "    if os.path.exists(metadata):\n",
    "        print(feature_set, 'ok')\n",
    "    else:\n",
    "        print(feature_set, 'does not exist')"
   ]
  },
  {
   "cell_type": "markdown",
   "id": "1c1ed760-1479-4eef-bf82-c23a20794468",
   "metadata": {},
   "source": [
    "## External Validation Sets"
   ]
  },
  {
   "cell_type": "code",
   "execution_count": 4,
   "id": "c3a135f8-f67b-41ad-b8df-246d2807b19a",
   "metadata": {},
   "outputs": [
    {
     "data": {
      "text/html": [
       "<div>\n",
       "<style scoped>\n",
       "    .dataframe tbody tr th:only-of-type {\n",
       "        vertical-align: middle;\n",
       "    }\n",
       "\n",
       "    .dataframe tbody tr th {\n",
       "        vertical-align: top;\n",
       "    }\n",
       "\n",
       "    .dataframe thead th {\n",
       "        text-align: right;\n",
       "    }\n",
       "</style>\n",
       "<table border=\"1\" class=\"dataframe\">\n",
       "  <thead>\n",
       "    <tr style=\"text-align: right;\">\n",
       "      <th></th>\n",
       "      <th>filename</th>\n",
       "      <th>record_id</th>\n",
       "      <th>subject_id</th>\n",
       "      <th>age</th>\n",
       "      <th>sex</th>\n",
       "      <th>educ</th>\n",
       "      <th>mmse</th>\n",
       "      <th>dx</th>\n",
       "      <th>dx_binary</th>\n",
       "      <th>dataset</th>\n",
       "      <th>language</th>\n",
       "    </tr>\n",
       "  </thead>\n",
       "  <tbody>\n",
       "    <tr>\n",
       "      <th>0</th>\n",
       "      <td>S002.csv</td>\n",
       "      <td>S002</td>\n",
       "      <td>S002</td>\n",
       "      <td>62.0</td>\n",
       "      <td>F</td>\n",
       "      <td>NaN</td>\n",
       "      <td>30.0</td>\n",
       "      <td>NC</td>\n",
       "      <td>0</td>\n",
       "      <td>ADReSS</td>\n",
       "      <td>en</td>\n",
       "    </tr>\n",
       "    <tr>\n",
       "      <th>1</th>\n",
       "      <td>S003.csv</td>\n",
       "      <td>S003</td>\n",
       "      <td>S003</td>\n",
       "      <td>69.0</td>\n",
       "      <td>F</td>\n",
       "      <td>NaN</td>\n",
       "      <td>29.0</td>\n",
       "      <td>NC</td>\n",
       "      <td>0</td>\n",
       "      <td>ADReSS</td>\n",
       "      <td>en</td>\n",
       "    </tr>\n",
       "    <tr>\n",
       "      <th>2</th>\n",
       "      <td>S004.csv</td>\n",
       "      <td>S004</td>\n",
       "      <td>S004</td>\n",
       "      <td>71.0</td>\n",
       "      <td>F</td>\n",
       "      <td>NaN</td>\n",
       "      <td>30.0</td>\n",
       "      <td>NC</td>\n",
       "      <td>0</td>\n",
       "      <td>ADReSS</td>\n",
       "      <td>en</td>\n",
       "    </tr>\n",
       "    <tr>\n",
       "      <th>3</th>\n",
       "      <td>S005.csv</td>\n",
       "      <td>S005</td>\n",
       "      <td>S005</td>\n",
       "      <td>74.0</td>\n",
       "      <td>F</td>\n",
       "      <td>NaN</td>\n",
       "      <td>30.0</td>\n",
       "      <td>NC</td>\n",
       "      <td>0</td>\n",
       "      <td>ADReSS</td>\n",
       "      <td>en</td>\n",
       "    </tr>\n",
       "    <tr>\n",
       "      <th>4</th>\n",
       "      <td>S006.csv</td>\n",
       "      <td>S006</td>\n",
       "      <td>S006</td>\n",
       "      <td>67.0</td>\n",
       "      <td>F</td>\n",
       "      <td>NaN</td>\n",
       "      <td>29.0</td>\n",
       "      <td>NC</td>\n",
       "      <td>0</td>\n",
       "      <td>ADReSS</td>\n",
       "      <td>en</td>\n",
       "    </tr>\n",
       "  </tbody>\n",
       "</table>\n",
       "</div>"
      ],
      "text/plain": [
       "   filename record_id subject_id   age sex  educ  mmse  dx  dx_binary dataset  \\\n",
       "0  S002.csv      S002       S002  62.0   F   NaN  30.0  NC          0  ADReSS   \n",
       "1  S003.csv      S003       S003  69.0   F   NaN  29.0  NC          0  ADReSS   \n",
       "2  S004.csv      S004       S004  71.0   F   NaN  30.0  NC          0  ADReSS   \n",
       "3  S005.csv      S005       S005  74.0   F   NaN  30.0  NC          0  ADReSS   \n",
       "4  S006.csv      S006       S006  67.0   F   NaN  29.0  NC          0  ADReSS   \n",
       "\n",
       "  language  \n",
       "0       en  \n",
       "1       en  \n",
       "2       en  \n",
       "3       en  \n",
       "4       en  "
      ]
     },
     "execution_count": 4,
     "metadata": {},
     "output_type": "execute_result"
    }
   ],
   "source": [
    "metadata = os.path.join(feature_sets['LFTK'], 'metadata.csv') # reference feature set \n",
    "metadata_df = pd.read_csv(metadata)\n",
    "metadata_df.head()"
   ]
  },
  {
   "cell_type": "code",
   "execution_count": 5,
   "id": "14b7de94-81f7-41d4-a0d1-d175b99285c3",
   "metadata": {},
   "outputs": [
    {
     "data": {
      "text/plain": [
       "language\n",
       "en    708\n",
       "zh    261\n",
       "el     54\n",
       "Name: count, dtype: int64"
      ]
     },
     "execution_count": 5,
     "metadata": {},
     "output_type": "execute_result"
    }
   ],
   "source": [
    "metadata_df['language'].value_counts() # languages"
   ]
  },
  {
   "cell_type": "markdown",
   "id": "8bb88082-4970-44d1-9e0d-959bc656a91a",
   "metadata": {},
   "source": [
    "### Chinese"
   ]
  },
  {
   "cell_type": "code",
   "execution_count": 6,
   "id": "db34c21a-b9c9-4aa0-8f71-69c8410116c9",
   "metadata": {},
   "outputs": [
    {
     "data": {
      "text/plain": [
       "(261, 11)"
      ]
     },
     "execution_count": 6,
     "metadata": {},
     "output_type": "execute_result"
    }
   ],
   "source": [
    "chinese = metadata_df[metadata_df['language']=='zh']\n",
    "chinese.shape"
   ]
  },
  {
   "cell_type": "code",
   "execution_count": 7,
   "id": "0fbbfda1-bc10-42c1-8ad3-5fd3d7f064d1",
   "metadata": {},
   "outputs": [
    {
     "data": {
      "text/html": [
       "<div>\n",
       "<style scoped>\n",
       "    .dataframe tbody tr th:only-of-type {\n",
       "        vertical-align: middle;\n",
       "    }\n",
       "\n",
       "    .dataframe tbody tr th {\n",
       "        vertical-align: top;\n",
       "    }\n",
       "\n",
       "    .dataframe thead th {\n",
       "        text-align: right;\n",
       "    }\n",
       "</style>\n",
       "<table border=\"1\" class=\"dataframe\">\n",
       "  <thead>\n",
       "    <tr style=\"text-align: right;\">\n",
       "      <th></th>\n",
       "      <th>filename</th>\n",
       "      <th>record_id</th>\n",
       "      <th>subject_id</th>\n",
       "      <th>age</th>\n",
       "      <th>sex</th>\n",
       "      <th>educ</th>\n",
       "      <th>mmse</th>\n",
       "      <th>dx</th>\n",
       "      <th>dx_binary</th>\n",
       "      <th>dataset</th>\n",
       "      <th>language</th>\n",
       "    </tr>\n",
       "  </thead>\n",
       "  <tbody>\n",
       "    <tr>\n",
       "      <th>516</th>\n",
       "      <td>taukdial-001-1.csv</td>\n",
       "      <td>taukdial-001-1</td>\n",
       "      <td>taukdial-001</td>\n",
       "      <td>70.0</td>\n",
       "      <td>F</td>\n",
       "      <td>NaN</td>\n",
       "      <td>27.0</td>\n",
       "      <td>NC</td>\n",
       "      <td>0</td>\n",
       "      <td>TAUKADIAL</td>\n",
       "      <td>zh</td>\n",
       "    </tr>\n",
       "    <tr>\n",
       "      <th>517</th>\n",
       "      <td>taukdial-001-2.csv</td>\n",
       "      <td>taukdial-001-2</td>\n",
       "      <td>taukdial-001</td>\n",
       "      <td>70.0</td>\n",
       "      <td>F</td>\n",
       "      <td>NaN</td>\n",
       "      <td>27.0</td>\n",
       "      <td>NC</td>\n",
       "      <td>0</td>\n",
       "      <td>TAUKADIAL</td>\n",
       "      <td>zh</td>\n",
       "    </tr>\n",
       "    <tr>\n",
       "      <th>518</th>\n",
       "      <td>taukdial-001-3.csv</td>\n",
       "      <td>taukdial-001-3</td>\n",
       "      <td>taukdial-001</td>\n",
       "      <td>70.0</td>\n",
       "      <td>F</td>\n",
       "      <td>NaN</td>\n",
       "      <td>27.0</td>\n",
       "      <td>NC</td>\n",
       "      <td>0</td>\n",
       "      <td>TAUKADIAL</td>\n",
       "      <td>zh</td>\n",
       "    </tr>\n",
       "    <tr>\n",
       "      <th>522</th>\n",
       "      <td>taukdial-003-1.csv</td>\n",
       "      <td>taukdial-003-1</td>\n",
       "      <td>taukdial-003</td>\n",
       "      <td>80.0</td>\n",
       "      <td>M</td>\n",
       "      <td>NaN</td>\n",
       "      <td>23.0</td>\n",
       "      <td>MCI</td>\n",
       "      <td>1</td>\n",
       "      <td>TAUKADIAL</td>\n",
       "      <td>zh</td>\n",
       "    </tr>\n",
       "    <tr>\n",
       "      <th>523</th>\n",
       "      <td>taukdial-003-2.csv</td>\n",
       "      <td>taukdial-003-2</td>\n",
       "      <td>taukdial-003</td>\n",
       "      <td>80.0</td>\n",
       "      <td>M</td>\n",
       "      <td>NaN</td>\n",
       "      <td>23.0</td>\n",
       "      <td>MCI</td>\n",
       "      <td>1</td>\n",
       "      <td>TAUKADIAL</td>\n",
       "      <td>zh</td>\n",
       "    </tr>\n",
       "  </tbody>\n",
       "</table>\n",
       "</div>"
      ],
      "text/plain": [
       "               filename       record_id    subject_id   age sex  educ  mmse  \\\n",
       "516  taukdial-001-1.csv  taukdial-001-1  taukdial-001  70.0   F   NaN  27.0   \n",
       "517  taukdial-001-2.csv  taukdial-001-2  taukdial-001  70.0   F   NaN  27.0   \n",
       "518  taukdial-001-3.csv  taukdial-001-3  taukdial-001  70.0   F   NaN  27.0   \n",
       "522  taukdial-003-1.csv  taukdial-003-1  taukdial-003  80.0   M   NaN  23.0   \n",
       "523  taukdial-003-2.csv  taukdial-003-2  taukdial-003  80.0   M   NaN  23.0   \n",
       "\n",
       "      dx  dx_binary    dataset language  \n",
       "516   NC          0  TAUKADIAL       zh  \n",
       "517   NC          0  TAUKADIAL       zh  \n",
       "518   NC          0  TAUKADIAL       zh  \n",
       "522  MCI          1  TAUKADIAL       zh  \n",
       "523  MCI          1  TAUKADIAL       zh  "
      ]
     },
     "execution_count": 7,
     "metadata": {},
     "output_type": "execute_result"
    }
   ],
   "source": [
    "chinese.head()"
   ]
  },
  {
   "cell_type": "code",
   "execution_count": 8,
   "id": "9e4da072-21d6-42ef-90ce-6ea42ad747bb",
   "metadata": {},
   "outputs": [
    {
     "data": {
      "text/plain": [
       "dataset\n",
       "TAUKADIAL    261\n",
       "Name: count, dtype: int64"
      ]
     },
     "execution_count": 8,
     "metadata": {},
     "output_type": "execute_result"
    }
   ],
   "source": [
    "chinese['dataset'].value_counts()"
   ]
  },
  {
   "cell_type": "markdown",
   "id": "f2b581f4-ac4b-4129-b522-0e64e91fbb80",
   "metadata": {},
   "source": [
    "### Greek"
   ]
  },
  {
   "cell_type": "code",
   "execution_count": 9,
   "id": "4e6a3be2-3a1d-4db7-9c94-853b8a5232c3",
   "metadata": {},
   "outputs": [
    {
     "data": {
      "text/plain": [
       "(54, 11)"
      ]
     },
     "execution_count": 9,
     "metadata": {},
     "output_type": "execute_result"
    }
   ],
   "source": [
    "greek = metadata_df[metadata_df['language']=='el']\n",
    "greek.shape"
   ]
  },
  {
   "cell_type": "code",
   "execution_count": 10,
   "id": "dc3ce71f-f4f8-42f9-9fa3-a55ca67ec10e",
   "metadata": {},
   "outputs": [
    {
     "data": {
      "text/html": [
       "<div>\n",
       "<style scoped>\n",
       "    .dataframe tbody tr th:only-of-type {\n",
       "        vertical-align: middle;\n",
       "    }\n",
       "\n",
       "    .dataframe tbody tr th {\n",
       "        vertical-align: top;\n",
       "    }\n",
       "\n",
       "    .dataframe thead th {\n",
       "        text-align: right;\n",
       "    }\n",
       "</style>\n",
       "<table border=\"1\" class=\"dataframe\">\n",
       "  <thead>\n",
       "    <tr style=\"text-align: right;\">\n",
       "      <th></th>\n",
       "      <th>filename</th>\n",
       "      <th>record_id</th>\n",
       "      <th>subject_id</th>\n",
       "      <th>age</th>\n",
       "      <th>sex</th>\n",
       "      <th>educ</th>\n",
       "      <th>mmse</th>\n",
       "      <th>dx</th>\n",
       "      <th>dx_binary</th>\n",
       "      <th>dataset</th>\n",
       "      <th>language</th>\n",
       "    </tr>\n",
       "  </thead>\n",
       "  <tbody>\n",
       "    <tr>\n",
       "      <th>462</th>\n",
       "      <td>madrs002.csv</td>\n",
       "      <td>madrs002</td>\n",
       "      <td>madrs002</td>\n",
       "      <td>78.0</td>\n",
       "      <td>F</td>\n",
       "      <td>0.0</td>\n",
       "      <td>24.0</td>\n",
       "      <td>Probable AD</td>\n",
       "      <td>1</td>\n",
       "      <td>ADReSS-M</td>\n",
       "      <td>el</td>\n",
       "    </tr>\n",
       "    <tr>\n",
       "      <th>463</th>\n",
       "      <td>madrs009.csv</td>\n",
       "      <td>madrs009</td>\n",
       "      <td>madrs009</td>\n",
       "      <td>60.0</td>\n",
       "      <td>F</td>\n",
       "      <td>6.0</td>\n",
       "      <td>29.0</td>\n",
       "      <td>NC</td>\n",
       "      <td>0</td>\n",
       "      <td>ADReSS-M</td>\n",
       "      <td>el</td>\n",
       "    </tr>\n",
       "    <tr>\n",
       "      <th>464</th>\n",
       "      <td>madrs010.csv</td>\n",
       "      <td>madrs010</td>\n",
       "      <td>madrs010</td>\n",
       "      <td>62.0</td>\n",
       "      <td>F</td>\n",
       "      <td>16.0</td>\n",
       "      <td>30.0</td>\n",
       "      <td>NC</td>\n",
       "      <td>0</td>\n",
       "      <td>ADReSS-M</td>\n",
       "      <td>el</td>\n",
       "    </tr>\n",
       "    <tr>\n",
       "      <th>465</th>\n",
       "      <td>madrs012.csv</td>\n",
       "      <td>madrs012</td>\n",
       "      <td>madrs012</td>\n",
       "      <td>82.0</td>\n",
       "      <td>F</td>\n",
       "      <td>15.0</td>\n",
       "      <td>23.0</td>\n",
       "      <td>Probable AD</td>\n",
       "      <td>1</td>\n",
       "      <td>ADReSS-M</td>\n",
       "      <td>el</td>\n",
       "    </tr>\n",
       "    <tr>\n",
       "      <th>466</th>\n",
       "      <td>madrs013.csv</td>\n",
       "      <td>madrs013</td>\n",
       "      <td>madrs013</td>\n",
       "      <td>63.0</td>\n",
       "      <td>F</td>\n",
       "      <td>10.0</td>\n",
       "      <td>29.0</td>\n",
       "      <td>NC</td>\n",
       "      <td>0</td>\n",
       "      <td>ADReSS-M</td>\n",
       "      <td>el</td>\n",
       "    </tr>\n",
       "  </tbody>\n",
       "</table>\n",
       "</div>"
      ],
      "text/plain": [
       "         filename record_id subject_id   age sex  educ  mmse           dx  \\\n",
       "462  madrs002.csv  madrs002   madrs002  78.0   F   0.0  24.0  Probable AD   \n",
       "463  madrs009.csv  madrs009   madrs009  60.0   F   6.0  29.0           NC   \n",
       "464  madrs010.csv  madrs010   madrs010  62.0   F  16.0  30.0           NC   \n",
       "465  madrs012.csv  madrs012   madrs012  82.0   F  15.0  23.0  Probable AD   \n",
       "466  madrs013.csv  madrs013   madrs013  63.0   F  10.0  29.0           NC   \n",
       "\n",
       "     dx_binary   dataset language  \n",
       "462          1  ADReSS-M       el  \n",
       "463          0  ADReSS-M       el  \n",
       "464          0  ADReSS-M       el  \n",
       "465          1  ADReSS-M       el  \n",
       "466          0  ADReSS-M       el  "
      ]
     },
     "execution_count": 10,
     "metadata": {},
     "output_type": "execute_result"
    }
   ],
   "source": [
    "greek.head()"
   ]
  },
  {
   "cell_type": "code",
   "execution_count": 11,
   "id": "a2b81179-28d1-4340-a36f-aec2fe4e7214",
   "metadata": {},
   "outputs": [
    {
     "data": {
      "text/plain": [
       "dataset\n",
       "ADReSS-M    54\n",
       "Name: count, dtype: int64"
      ]
     },
     "execution_count": 11,
     "metadata": {},
     "output_type": "execute_result"
    }
   ],
   "source": [
    "greek['dataset'].value_counts()"
   ]
  },
  {
   "cell_type": "markdown",
   "id": "3076be78-09da-4eae-b5ec-b68451e949ef",
   "metadata": {},
   "source": [
    "### English"
   ]
  },
  {
   "cell_type": "code",
   "execution_count": 12,
   "id": "802d7992-e850-4a0d-b1c1-1d50fc0e502e",
   "metadata": {},
   "outputs": [
    {
     "data": {
      "text/plain": [
       "2706"
      ]
     },
     "execution_count": 12,
     "metadata": {},
     "output_type": "execute_result"
    }
   ],
   "source": [
    "# English & TAUKADIAL \n",
    "english = metadata_df[(metadata_df['language']=='en') & (metadata_df['dataset']=='TAUKADIAL')]\n",
    "english.size"
   ]
  },
  {
   "cell_type": "code",
   "execution_count": 13,
   "id": "323240e8-f67c-49b1-b276-9bb46098d67f",
   "metadata": {},
   "outputs": [
    {
     "data": {
      "text/html": [
       "<div>\n",
       "<style scoped>\n",
       "    .dataframe tbody tr th:only-of-type {\n",
       "        vertical-align: middle;\n",
       "    }\n",
       "\n",
       "    .dataframe tbody tr th {\n",
       "        vertical-align: top;\n",
       "    }\n",
       "\n",
       "    .dataframe thead th {\n",
       "        text-align: right;\n",
       "    }\n",
       "</style>\n",
       "<table border=\"1\" class=\"dataframe\">\n",
       "  <thead>\n",
       "    <tr style=\"text-align: right;\">\n",
       "      <th></th>\n",
       "      <th>filename</th>\n",
       "      <th>record_id</th>\n",
       "      <th>subject_id</th>\n",
       "      <th>age</th>\n",
       "      <th>sex</th>\n",
       "      <th>educ</th>\n",
       "      <th>mmse</th>\n",
       "      <th>dx</th>\n",
       "      <th>dx_binary</th>\n",
       "      <th>dataset</th>\n",
       "      <th>language</th>\n",
       "    </tr>\n",
       "  </thead>\n",
       "  <tbody>\n",
       "    <tr>\n",
       "      <th>519</th>\n",
       "      <td>taukdial-002-1.csv</td>\n",
       "      <td>taukdial-002-1</td>\n",
       "      <td>taukdial-002</td>\n",
       "      <td>72.0</td>\n",
       "      <td>F</td>\n",
       "      <td>NaN</td>\n",
       "      <td>29.0</td>\n",
       "      <td>NC</td>\n",
       "      <td>0</td>\n",
       "      <td>TAUKADIAL</td>\n",
       "      <td>en</td>\n",
       "    </tr>\n",
       "    <tr>\n",
       "      <th>520</th>\n",
       "      <td>taukdial-002-2.csv</td>\n",
       "      <td>taukdial-002-2</td>\n",
       "      <td>taukdial-002</td>\n",
       "      <td>72.0</td>\n",
       "      <td>F</td>\n",
       "      <td>NaN</td>\n",
       "      <td>29.0</td>\n",
       "      <td>NC</td>\n",
       "      <td>0</td>\n",
       "      <td>TAUKADIAL</td>\n",
       "      <td>en</td>\n",
       "    </tr>\n",
       "    <tr>\n",
       "      <th>521</th>\n",
       "      <td>taukdial-002-3.csv</td>\n",
       "      <td>taukdial-002-3</td>\n",
       "      <td>taukdial-002</td>\n",
       "      <td>72.0</td>\n",
       "      <td>F</td>\n",
       "      <td>NaN</td>\n",
       "      <td>29.0</td>\n",
       "      <td>NC</td>\n",
       "      <td>0</td>\n",
       "      <td>TAUKADIAL</td>\n",
       "      <td>en</td>\n",
       "    </tr>\n",
       "    <tr>\n",
       "      <th>528</th>\n",
       "      <td>taukdial-005-1.csv</td>\n",
       "      <td>taukdial-005-1</td>\n",
       "      <td>taukdial-005</td>\n",
       "      <td>68.0</td>\n",
       "      <td>F</td>\n",
       "      <td>NaN</td>\n",
       "      <td>29.0</td>\n",
       "      <td>NC</td>\n",
       "      <td>0</td>\n",
       "      <td>TAUKADIAL</td>\n",
       "      <td>en</td>\n",
       "    </tr>\n",
       "    <tr>\n",
       "      <th>529</th>\n",
       "      <td>taukdial-005-2.csv</td>\n",
       "      <td>taukdial-005-2</td>\n",
       "      <td>taukdial-005</td>\n",
       "      <td>68.0</td>\n",
       "      <td>F</td>\n",
       "      <td>NaN</td>\n",
       "      <td>29.0</td>\n",
       "      <td>NC</td>\n",
       "      <td>0</td>\n",
       "      <td>TAUKADIAL</td>\n",
       "      <td>en</td>\n",
       "    </tr>\n",
       "  </tbody>\n",
       "</table>\n",
       "</div>"
      ],
      "text/plain": [
       "               filename       record_id    subject_id   age sex  educ  mmse  \\\n",
       "519  taukdial-002-1.csv  taukdial-002-1  taukdial-002  72.0   F   NaN  29.0   \n",
       "520  taukdial-002-2.csv  taukdial-002-2  taukdial-002  72.0   F   NaN  29.0   \n",
       "521  taukdial-002-3.csv  taukdial-002-3  taukdial-002  72.0   F   NaN  29.0   \n",
       "528  taukdial-005-1.csv  taukdial-005-1  taukdial-005  68.0   F   NaN  29.0   \n",
       "529  taukdial-005-2.csv  taukdial-005-2  taukdial-005  68.0   F   NaN  29.0   \n",
       "\n",
       "     dx  dx_binary    dataset language  \n",
       "519  NC          0  TAUKADIAL       en  \n",
       "520  NC          0  TAUKADIAL       en  \n",
       "521  NC          0  TAUKADIAL       en  \n",
       "528  NC          0  TAUKADIAL       en  \n",
       "529  NC          0  TAUKADIAL       en  "
      ]
     },
     "execution_count": 13,
     "metadata": {},
     "output_type": "execute_result"
    }
   ],
   "source": [
    "english.head()"
   ]
  },
  {
   "cell_type": "code",
   "execution_count": 14,
   "id": "9b8a1728-29da-4d66-b80a-57d1cdede758",
   "metadata": {},
   "outputs": [
    {
     "data": {
      "text/plain": [
       "dataset\n",
       "TAUKADIAL    246\n",
       "Name: count, dtype: int64"
      ]
     },
     "execution_count": 14,
     "metadata": {},
     "output_type": "execute_result"
    }
   ],
   "source": [
    "english['dataset'].value_counts()"
   ]
  },
  {
   "cell_type": "code",
   "execution_count": 15,
   "id": "35bd41c9-eacd-4c29-9d26-4e09d4158e56",
   "metadata": {},
   "outputs": [
    {
     "data": {
      "text/plain": [
       "(82, 11)"
      ]
     },
     "execution_count": 15,
     "metadata": {},
     "output_type": "execute_result"
    }
   ],
   "source": [
    "# control case: english, cookie theft\n",
    "def get_task_id(record_id):\n",
    "    return record_id.split('-')[2]\n",
    "\n",
    "english_cookie_theft = english[english['record_id'].apply(lambda x: get_task_id(x)=='3')]\n",
    "english_cookie_theft.shape"
   ]
  },
  {
   "cell_type": "code",
   "execution_count": 16,
   "id": "cd110150-c97d-47f5-901a-96d7f9e727c2",
   "metadata": {},
   "outputs": [
    {
     "data": {
      "text/html": [
       "<div>\n",
       "<style scoped>\n",
       "    .dataframe tbody tr th:only-of-type {\n",
       "        vertical-align: middle;\n",
       "    }\n",
       "\n",
       "    .dataframe tbody tr th {\n",
       "        vertical-align: top;\n",
       "    }\n",
       "\n",
       "    .dataframe thead th {\n",
       "        text-align: right;\n",
       "    }\n",
       "</style>\n",
       "<table border=\"1\" class=\"dataframe\">\n",
       "  <thead>\n",
       "    <tr style=\"text-align: right;\">\n",
       "      <th></th>\n",
       "      <th>filename</th>\n",
       "      <th>record_id</th>\n",
       "      <th>subject_id</th>\n",
       "      <th>age</th>\n",
       "      <th>sex</th>\n",
       "      <th>educ</th>\n",
       "      <th>mmse</th>\n",
       "      <th>dx</th>\n",
       "      <th>dx_binary</th>\n",
       "      <th>dataset</th>\n",
       "      <th>language</th>\n",
       "    </tr>\n",
       "  </thead>\n",
       "  <tbody>\n",
       "    <tr>\n",
       "      <th>521</th>\n",
       "      <td>taukdial-002-3.csv</td>\n",
       "      <td>taukdial-002-3</td>\n",
       "      <td>taukdial-002</td>\n",
       "      <td>72.0</td>\n",
       "      <td>F</td>\n",
       "      <td>NaN</td>\n",
       "      <td>29.0</td>\n",
       "      <td>NC</td>\n",
       "      <td>0</td>\n",
       "      <td>TAUKADIAL</td>\n",
       "      <td>en</td>\n",
       "    </tr>\n",
       "    <tr>\n",
       "      <th>530</th>\n",
       "      <td>taukdial-005-3.csv</td>\n",
       "      <td>taukdial-005-3</td>\n",
       "      <td>taukdial-005</td>\n",
       "      <td>68.0</td>\n",
       "      <td>F</td>\n",
       "      <td>NaN</td>\n",
       "      <td>29.0</td>\n",
       "      <td>NC</td>\n",
       "      <td>0</td>\n",
       "      <td>TAUKADIAL</td>\n",
       "      <td>en</td>\n",
       "    </tr>\n",
       "    <tr>\n",
       "      <th>539</th>\n",
       "      <td>taukdial-008-3.csv</td>\n",
       "      <td>taukdial-008-3</td>\n",
       "      <td>taukdial-008</td>\n",
       "      <td>84.0</td>\n",
       "      <td>F</td>\n",
       "      <td>NaN</td>\n",
       "      <td>29.0</td>\n",
       "      <td>NC</td>\n",
       "      <td>0</td>\n",
       "      <td>TAUKADIAL</td>\n",
       "      <td>en</td>\n",
       "    </tr>\n",
       "    <tr>\n",
       "      <th>545</th>\n",
       "      <td>taukdial-010-3.csv</td>\n",
       "      <td>taukdial-010-3</td>\n",
       "      <td>taukdial-010</td>\n",
       "      <td>91.0</td>\n",
       "      <td>F</td>\n",
       "      <td>NaN</td>\n",
       "      <td>27.0</td>\n",
       "      <td>MCI</td>\n",
       "      <td>1</td>\n",
       "      <td>TAUKADIAL</td>\n",
       "      <td>en</td>\n",
       "    </tr>\n",
       "    <tr>\n",
       "      <th>548</th>\n",
       "      <td>taukdial-011-3.csv</td>\n",
       "      <td>taukdial-011-3</td>\n",
       "      <td>taukdial-011</td>\n",
       "      <td>66.0</td>\n",
       "      <td>F</td>\n",
       "      <td>NaN</td>\n",
       "      <td>25.0</td>\n",
       "      <td>MCI</td>\n",
       "      <td>1</td>\n",
       "      <td>TAUKADIAL</td>\n",
       "      <td>en</td>\n",
       "    </tr>\n",
       "  </tbody>\n",
       "</table>\n",
       "</div>"
      ],
      "text/plain": [
       "               filename       record_id    subject_id   age sex  educ  mmse  \\\n",
       "521  taukdial-002-3.csv  taukdial-002-3  taukdial-002  72.0   F   NaN  29.0   \n",
       "530  taukdial-005-3.csv  taukdial-005-3  taukdial-005  68.0   F   NaN  29.0   \n",
       "539  taukdial-008-3.csv  taukdial-008-3  taukdial-008  84.0   F   NaN  29.0   \n",
       "545  taukdial-010-3.csv  taukdial-010-3  taukdial-010  91.0   F   NaN  27.0   \n",
       "548  taukdial-011-3.csv  taukdial-011-3  taukdial-011  66.0   F   NaN  25.0   \n",
       "\n",
       "      dx  dx_binary    dataset language  \n",
       "521   NC          0  TAUKADIAL       en  \n",
       "530   NC          0  TAUKADIAL       en  \n",
       "539   NC          0  TAUKADIAL       en  \n",
       "545  MCI          1  TAUKADIAL       en  \n",
       "548  MCI          1  TAUKADIAL       en  "
      ]
     },
     "execution_count": 16,
     "metadata": {},
     "output_type": "execute_result"
    }
   ],
   "source": [
    "english_cookie_theft.head()"
   ]
  },
  {
   "cell_type": "code",
   "execution_count": 17,
   "id": "1722d05b-45b7-4b92-aafb-0edbfb58db28",
   "metadata": {},
   "outputs": [
    {
     "data": {
      "text/plain": [
       "record_id\n",
       "3    82\n",
       "Name: count, dtype: int64"
      ]
     },
     "execution_count": 17,
     "metadata": {},
     "output_type": "execute_result"
    }
   ],
   "source": [
    "english_cookie_theft['record_id'].apply(lambda x: get_task_id(x)).value_counts()"
   ]
  },
  {
   "cell_type": "markdown",
   "id": "f4d359aa-f54e-4dd0-a58f-c3c0c236d301",
   "metadata": {},
   "source": [
    "Task ids are all 3."
   ]
  },
  {
   "cell_type": "code",
   "execution_count": 18,
   "id": "48a4bc98-c57f-4682-a46b-c133f1cf4062",
   "metadata": {},
   "outputs": [
    {
     "data": {
      "text/plain": [
       "1804"
      ]
     },
     "execution_count": 18,
     "metadata": {},
     "output_type": "execute_result"
    }
   ],
   "source": [
    "english_others = english[~english['record_id'].isin(english_cookie_theft['record_id'].values)]\n",
    "english_others.size"
   ]
  },
  {
   "cell_type": "code",
   "execution_count": 19,
   "id": "357f3951-cc03-4f64-a89e-db119c038e82",
   "metadata": {},
   "outputs": [
    {
     "data": {
      "text/html": [
       "<div>\n",
       "<style scoped>\n",
       "    .dataframe tbody tr th:only-of-type {\n",
       "        vertical-align: middle;\n",
       "    }\n",
       "\n",
       "    .dataframe tbody tr th {\n",
       "        vertical-align: top;\n",
       "    }\n",
       "\n",
       "    .dataframe thead th {\n",
       "        text-align: right;\n",
       "    }\n",
       "</style>\n",
       "<table border=\"1\" class=\"dataframe\">\n",
       "  <thead>\n",
       "    <tr style=\"text-align: right;\">\n",
       "      <th></th>\n",
       "      <th>filename</th>\n",
       "      <th>record_id</th>\n",
       "      <th>subject_id</th>\n",
       "      <th>age</th>\n",
       "      <th>sex</th>\n",
       "      <th>educ</th>\n",
       "      <th>mmse</th>\n",
       "      <th>dx</th>\n",
       "      <th>dx_binary</th>\n",
       "      <th>dataset</th>\n",
       "      <th>language</th>\n",
       "    </tr>\n",
       "  </thead>\n",
       "  <tbody>\n",
       "    <tr>\n",
       "      <th>519</th>\n",
       "      <td>taukdial-002-1.csv</td>\n",
       "      <td>taukdial-002-1</td>\n",
       "      <td>taukdial-002</td>\n",
       "      <td>72.0</td>\n",
       "      <td>F</td>\n",
       "      <td>NaN</td>\n",
       "      <td>29.0</td>\n",
       "      <td>NC</td>\n",
       "      <td>0</td>\n",
       "      <td>TAUKADIAL</td>\n",
       "      <td>en</td>\n",
       "    </tr>\n",
       "    <tr>\n",
       "      <th>520</th>\n",
       "      <td>taukdial-002-2.csv</td>\n",
       "      <td>taukdial-002-2</td>\n",
       "      <td>taukdial-002</td>\n",
       "      <td>72.0</td>\n",
       "      <td>F</td>\n",
       "      <td>NaN</td>\n",
       "      <td>29.0</td>\n",
       "      <td>NC</td>\n",
       "      <td>0</td>\n",
       "      <td>TAUKADIAL</td>\n",
       "      <td>en</td>\n",
       "    </tr>\n",
       "    <tr>\n",
       "      <th>528</th>\n",
       "      <td>taukdial-005-1.csv</td>\n",
       "      <td>taukdial-005-1</td>\n",
       "      <td>taukdial-005</td>\n",
       "      <td>68.0</td>\n",
       "      <td>F</td>\n",
       "      <td>NaN</td>\n",
       "      <td>29.0</td>\n",
       "      <td>NC</td>\n",
       "      <td>0</td>\n",
       "      <td>TAUKADIAL</td>\n",
       "      <td>en</td>\n",
       "    </tr>\n",
       "    <tr>\n",
       "      <th>529</th>\n",
       "      <td>taukdial-005-2.csv</td>\n",
       "      <td>taukdial-005-2</td>\n",
       "      <td>taukdial-005</td>\n",
       "      <td>68.0</td>\n",
       "      <td>F</td>\n",
       "      <td>NaN</td>\n",
       "      <td>29.0</td>\n",
       "      <td>NC</td>\n",
       "      <td>0</td>\n",
       "      <td>TAUKADIAL</td>\n",
       "      <td>en</td>\n",
       "    </tr>\n",
       "    <tr>\n",
       "      <th>537</th>\n",
       "      <td>taukdial-008-1.csv</td>\n",
       "      <td>taukdial-008-1</td>\n",
       "      <td>taukdial-008</td>\n",
       "      <td>84.0</td>\n",
       "      <td>F</td>\n",
       "      <td>NaN</td>\n",
       "      <td>29.0</td>\n",
       "      <td>NC</td>\n",
       "      <td>0</td>\n",
       "      <td>TAUKADIAL</td>\n",
       "      <td>en</td>\n",
       "    </tr>\n",
       "  </tbody>\n",
       "</table>\n",
       "</div>"
      ],
      "text/plain": [
       "               filename       record_id    subject_id   age sex  educ  mmse  \\\n",
       "519  taukdial-002-1.csv  taukdial-002-1  taukdial-002  72.0   F   NaN  29.0   \n",
       "520  taukdial-002-2.csv  taukdial-002-2  taukdial-002  72.0   F   NaN  29.0   \n",
       "528  taukdial-005-1.csv  taukdial-005-1  taukdial-005  68.0   F   NaN  29.0   \n",
       "529  taukdial-005-2.csv  taukdial-005-2  taukdial-005  68.0   F   NaN  29.0   \n",
       "537  taukdial-008-1.csv  taukdial-008-1  taukdial-008  84.0   F   NaN  29.0   \n",
       "\n",
       "     dx  dx_binary    dataset language  \n",
       "519  NC          0  TAUKADIAL       en  \n",
       "520  NC          0  TAUKADIAL       en  \n",
       "528  NC          0  TAUKADIAL       en  \n",
       "529  NC          0  TAUKADIAL       en  \n",
       "537  NC          0  TAUKADIAL       en  "
      ]
     },
     "execution_count": 19,
     "metadata": {},
     "output_type": "execute_result"
    }
   ],
   "source": [
    "english_others.head()"
   ]
  },
  {
   "cell_type": "code",
   "execution_count": 20,
   "id": "a9230850-20fe-476f-b22a-9156be33d683",
   "metadata": {},
   "outputs": [
    {
     "data": {
      "text/plain": [
       "record_id\n",
       "1    82\n",
       "2    82\n",
       "Name: count, dtype: int64"
      ]
     },
     "execution_count": 20,
     "metadata": {},
     "output_type": "execute_result"
    }
   ],
   "source": [
    "english_others['record_id'].apply(lambda x: get_task_id(x)).value_counts()"
   ]
  },
  {
   "cell_type": "markdown",
   "id": "9badeae4-e55d-4499-845a-5967067f6790",
   "metadata": {},
   "source": [
    "### Save: metadata files"
   ]
  },
  {
   "cell_type": "markdown",
   "id": "6166f16e-6fc0-4286-92e6-10d0573505be",
   "metadata": {},
   "source": [
    "Only tasks 1 and 2 are here."
   ]
  },
  {
   "cell_type": "code",
   "execution_count": 21,
   "id": "37939917-b27b-4c95-9e6e-b4670b437996",
   "metadata": {},
   "outputs": [
    {
     "name": "stdout",
     "output_type": "stream",
     "text": [
      "eGeMAPS\n",
      "\t + metadata_ev_english_control\n",
      "\t + metadata_ev_english\n",
      "\t + metadata_ev_chinese\n",
      "\t + metadata_ev_greek\n",
      "BoAW ComParE 2016\n",
      "\t + metadata_ev_english_control\n",
      "\t + metadata_ev_english\n",
      "\t + metadata_ev_chinese\n",
      "\t + metadata_ev_greek\n",
      "LFTK\n",
      "\t + metadata_ev_english_control\n",
      "\t + metadata_ev_english\n",
      "\t + metadata_ev_chinese\n",
      "\t + metadata_ev_greek\n",
      "LFTK Syntax\n",
      "\t + metadata_ev_english_control\n",
      "\t + metadata_ev_english\n",
      "\t + metadata_ev_chinese\n",
      "\t + metadata_ev_greek\n",
      "LFTK Discourse\n",
      "\t + metadata_ev_english_control\n",
      "\t + metadata_ev_english\n",
      "\t + metadata_ev_chinese\n",
      "\t + metadata_ev_greek\n",
      "LFTK Lexico-Semantics\n",
      "\t + metadata_ev_english_control\n",
      "\t + metadata_ev_english\n",
      "\t + metadata_ev_chinese\n",
      "\t + metadata_ev_greek\n",
      "LFTK Surface\n",
      "\t + metadata_ev_english_control\n",
      "\t + metadata_ev_english\n",
      "\t + metadata_ev_chinese\n",
      "\t + metadata_ev_greek\n",
      "BERT\n",
      "\t + metadata_ev_english_control\n",
      "\t + metadata_ev_english\n",
      "\t + metadata_ev_chinese\n",
      "\t + metadata_ev_greek\n",
      "wav2vec\n",
      "\t + metadata_ev_english_control\n",
      "\t + metadata_ev_english\n",
      "\t + metadata_ev_chinese\n",
      "\t + metadata_ev_greek\n"
     ]
    }
   ],
   "source": [
    "# Saving validation sets in each of the feature set directories\n",
    "\n",
    "external_validation_sets = {\n",
    "    'metadata_ev_english_control': english_cookie_theft,\n",
    "    'metadata_ev_english': english_others,\n",
    "    'metadata_ev_chinese': chinese,\n",
    "    'metadata_ev_greek': greek\n",
    "}\n",
    "\n",
    "for fs in feature_sets:\n",
    "    current_dir = feature_sets[fs]\n",
    "    print(fs)\n",
    "    for evs in external_validation_sets:\n",
    "        current_metadata_csv = os.path.join(current_dir, evs + '.csv')\n",
    "        current_metadata = external_validation_sets[evs]\n",
    "\n",
    "        current_metadata.to_csv(current_metadata_csv, index=False)\n",
    "        \n",
    "        if os.path.exists(current_metadata_csv):\n",
    "            print('\\t +', evs)\n",
    "        else:\n",
    "            print('\\t -', evs, )\n"
   ]
  },
  {
   "cell_type": "markdown",
   "id": "43b0f38e-9205-4f3c-961e-c269bae69697",
   "metadata": {},
   "source": [
    "## Internal Cross-Validation"
   ]
  },
  {
   "cell_type": "code",
   "execution_count": 22,
   "id": "271b772a-2ccd-4708-8623-12290d23ed2a",
   "metadata": {},
   "outputs": [
    {
     "data": {
      "text/plain": [
       "561"
      ]
     },
     "execution_count": 22,
     "metadata": {},
     "output_type": "execute_result"
    }
   ],
   "source": [
    "external_cv_record_ids = []\n",
    "for evs in external_validation_sets:\n",
    "    current_metadata = external_validation_sets[evs]\n",
    "    external_cv_record_ids.extend(current_metadata['record_id'].values)\n",
    "len(external_cv_record_ids)  "
   ]
  },
  {
   "cell_type": "code",
   "execution_count": 23,
   "id": "54aab54b-a1a9-4cc2-8725-b2e278c5bfbb",
   "metadata": {},
   "outputs": [
    {
     "data": {
      "text/plain": [
       "((1023, 11), 462)"
      ]
     },
     "execution_count": 23,
     "metadata": {},
     "output_type": "execute_result"
    }
   ],
   "source": [
    "metadata_df.shape, metadata_df.shape[0] - 561"
   ]
  },
  {
   "cell_type": "markdown",
   "id": "e1a4f68c-872e-4847-ba08-bb8ee6401de2",
   "metadata": {},
   "source": [
    "462 samples left for internal CV."
   ]
  },
  {
   "cell_type": "code",
   "execution_count": 24,
   "id": "2fbfa0e5-8086-48b2-81d8-f838fa852945",
   "metadata": {},
   "outputs": [
    {
     "data": {
      "text/plain": [
       "(462, 11)"
      ]
     },
     "execution_count": 24,
     "metadata": {},
     "output_type": "execute_result"
    }
   ],
   "source": [
    "internal_cv = metadata_df[~metadata_df['record_id'].isin(external_cv_record_ids)]\n",
    "internal_cv.shape"
   ]
  },
  {
   "cell_type": "code",
   "execution_count": 25,
   "id": "e09de500-0dcf-41ef-976b-1ac042c5e0ba",
   "metadata": {},
   "outputs": [
    {
     "data": {
      "text/plain": [
       "language\n",
       "en    462\n",
       "Name: count, dtype: int64"
      ]
     },
     "execution_count": 25,
     "metadata": {},
     "output_type": "execute_result"
    }
   ],
   "source": [
    "internal_cv['language'].value_counts()"
   ]
  },
  {
   "cell_type": "code",
   "execution_count": 26,
   "id": "7ee1086f-3338-42d2-8d82-e582c7c9ee6a",
   "metadata": {},
   "outputs": [
    {
     "data": {
      "text/plain": [
       "dataset\n",
       "ADReSSo     237\n",
       "ADReSS      155\n",
       "ADReSS-M     70\n",
       "Name: count, dtype: int64"
      ]
     },
     "execution_count": 26,
     "metadata": {},
     "output_type": "execute_result"
    }
   ],
   "source": [
    "internal_cv['dataset'].value_counts()"
   ]
  },
  {
   "cell_type": "code",
   "execution_count": 27,
   "id": "f5fcf448-0ec7-4f94-867c-a7f0dbf9b777",
   "metadata": {},
   "outputs": [
    {
     "name": "stdout",
     "output_type": "stream",
     "text": [
      "eGeMAPS\n",
      "\t + metadata_cv_english.csv\n",
      "BoAW ComParE 2016\n",
      "\t + metadata_cv_english.csv\n",
      "LFTK\n",
      "\t + metadata_cv_english.csv\n",
      "LFTK Syntax\n",
      "\t + metadata_cv_english.csv\n",
      "LFTK Discourse\n",
      "\t + metadata_cv_english.csv\n",
      "LFTK Lexico-Semantics\n",
      "\t + metadata_cv_english.csv\n",
      "LFTK Surface\n",
      "\t + metadata_cv_english.csv\n",
      "BERT\n",
      "\t + metadata_cv_english.csv\n",
      "wav2vec\n",
      "\t + metadata_cv_english.csv\n"
     ]
    }
   ],
   "source": [
    "# Saving internal cross-validation set in each of the feature set directories\n",
    "\n",
    "for fs in feature_sets:\n",
    "    print(fs)\n",
    "    current_dir = feature_sets[fs]\n",
    "    current_metadata_csv = os.path.join(current_dir, 'metadata_cv_english.csv')\n",
    "    internal_cv.to_csv(current_metadata_csv, index=False)\n",
    "    \n",
    "    if os.path.exists(current_metadata_csv):\n",
    "        print('\\t +', 'metadata_cv_english.csv')\n",
    "    else:\n",
    "        print('\\t -', 'metadata_cv_english.csv')"
   ]
  }
 ],
 "metadata": {
  "kernelspec": {
   "display_name": "Python 3 (ipykernel)",
   "language": "python",
   "name": "python3"
  },
  "language_info": {
   "codemirror_mode": {
    "name": "ipython",
    "version": 3
   },
   "file_extension": ".py",
   "mimetype": "text/x-python",
   "name": "python",
   "nbconvert_exporter": "python",
   "pygments_lexer": "ipython3",
   "version": "3.9.21"
  }
 },
 "nbformat": 4,
 "nbformat_minor": 5
}
