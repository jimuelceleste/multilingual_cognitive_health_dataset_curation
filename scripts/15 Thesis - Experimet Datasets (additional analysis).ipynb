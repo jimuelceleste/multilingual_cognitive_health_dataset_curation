{
 "cells": [
  {
   "cell_type": "markdown",
   "id": "2bd291d3-2470-4996-89f2-e0e8d8beb3ca",
   "metadata": {},
   "source": [
    "# Thesis - Experimet Datasets (additional analysis)\n",
    "\n",
    "By: Jimuel Celeste, Jr. \n",
    "\n",
    "Objective: To describe the distribution of labels by set. "
   ]
  },
  {
   "cell_type": "code",
   "execution_count": 1,
   "id": "22f6b980-2939-44f8-b720-86f0f45b056a",
   "metadata": {},
   "outputs": [],
   "source": [
    "import os \n",
    "\n",
    "import pandas as pd"
   ]
  },
  {
   "cell_type": "markdown",
   "id": "fa5e3066-c29e-456e-8c59-36bba4847b40",
   "metadata": {},
   "source": [
    "## CV"
   ]
  },
  {
   "cell_type": "code",
   "execution_count": 2,
   "id": "82a861cd-e841-4ff7-aaf7-b0a2cae81f14",
   "metadata": {},
   "outputs": [
    {
     "data": {
      "text/html": [
       "<div>\n",
       "<style scoped>\n",
       "    .dataframe tbody tr th:only-of-type {\n",
       "        vertical-align: middle;\n",
       "    }\n",
       "\n",
       "    .dataframe tbody tr th {\n",
       "        vertical-align: top;\n",
       "    }\n",
       "\n",
       "    .dataframe thead th {\n",
       "        text-align: right;\n",
       "    }\n",
       "</style>\n",
       "<table border=\"1\" class=\"dataframe\">\n",
       "  <thead>\n",
       "    <tr style=\"text-align: right;\">\n",
       "      <th></th>\n",
       "      <th>filename</th>\n",
       "      <th>record_id</th>\n",
       "      <th>subject_id</th>\n",
       "      <th>age</th>\n",
       "      <th>sex</th>\n",
       "      <th>educ</th>\n",
       "      <th>mmse</th>\n",
       "      <th>dx</th>\n",
       "      <th>dx_binary</th>\n",
       "      <th>dataset</th>\n",
       "      <th>language</th>\n",
       "    </tr>\n",
       "  </thead>\n",
       "  <tbody>\n",
       "    <tr>\n",
       "      <th>0</th>\n",
       "      <td>S002.csv</td>\n",
       "      <td>S002</td>\n",
       "      <td>S002</td>\n",
       "      <td>62.0</td>\n",
       "      <td>F</td>\n",
       "      <td>NaN</td>\n",
       "      <td>30.0</td>\n",
       "      <td>NC</td>\n",
       "      <td>0</td>\n",
       "      <td>ADReSS</td>\n",
       "      <td>en</td>\n",
       "    </tr>\n",
       "    <tr>\n",
       "      <th>1</th>\n",
       "      <td>S003.csv</td>\n",
       "      <td>S003</td>\n",
       "      <td>S003</td>\n",
       "      <td>69.0</td>\n",
       "      <td>F</td>\n",
       "      <td>NaN</td>\n",
       "      <td>29.0</td>\n",
       "      <td>NC</td>\n",
       "      <td>0</td>\n",
       "      <td>ADReSS</td>\n",
       "      <td>en</td>\n",
       "    </tr>\n",
       "    <tr>\n",
       "      <th>2</th>\n",
       "      <td>S004.csv</td>\n",
       "      <td>S004</td>\n",
       "      <td>S004</td>\n",
       "      <td>71.0</td>\n",
       "      <td>F</td>\n",
       "      <td>NaN</td>\n",
       "      <td>30.0</td>\n",
       "      <td>NC</td>\n",
       "      <td>0</td>\n",
       "      <td>ADReSS</td>\n",
       "      <td>en</td>\n",
       "    </tr>\n",
       "    <tr>\n",
       "      <th>3</th>\n",
       "      <td>S005.csv</td>\n",
       "      <td>S005</td>\n",
       "      <td>S005</td>\n",
       "      <td>74.0</td>\n",
       "      <td>F</td>\n",
       "      <td>NaN</td>\n",
       "      <td>30.0</td>\n",
       "      <td>NC</td>\n",
       "      <td>0</td>\n",
       "      <td>ADReSS</td>\n",
       "      <td>en</td>\n",
       "    </tr>\n",
       "    <tr>\n",
       "      <th>4</th>\n",
       "      <td>S006.csv</td>\n",
       "      <td>S006</td>\n",
       "      <td>S006</td>\n",
       "      <td>67.0</td>\n",
       "      <td>F</td>\n",
       "      <td>NaN</td>\n",
       "      <td>29.0</td>\n",
       "      <td>NC</td>\n",
       "      <td>0</td>\n",
       "      <td>ADReSS</td>\n",
       "      <td>en</td>\n",
       "    </tr>\n",
       "  </tbody>\n",
       "</table>\n",
       "</div>"
      ],
      "text/plain": [
       "   filename record_id subject_id   age sex  educ  mmse  dx  dx_binary dataset  \\\n",
       "0  S002.csv      S002       S002  62.0   F   NaN  30.0  NC          0  ADReSS   \n",
       "1  S003.csv      S003       S003  69.0   F   NaN  29.0  NC          0  ADReSS   \n",
       "2  S004.csv      S004       S004  71.0   F   NaN  30.0  NC          0  ADReSS   \n",
       "3  S005.csv      S005       S005  74.0   F   NaN  30.0  NC          0  ADReSS   \n",
       "4  S006.csv      S006       S006  67.0   F   NaN  29.0  NC          0  ADReSS   \n",
       "\n",
       "  language  \n",
       "0       en  \n",
       "1       en  \n",
       "2       en  \n",
       "3       en  \n",
       "4       en  "
      ]
     },
     "execution_count": 2,
     "metadata": {},
     "output_type": "execute_result"
    }
   ],
   "source": [
    "metadata = '/Users/jimuelcelestejr/Downloads/Dataset/Thesis - Features/Thesis - Acoustic Features/egemaps_functionals/metadata_cv_english.csv'\n",
    "df = pd.read_csv(metadata)\n",
    "df.head()"
   ]
  },
  {
   "cell_type": "code",
   "execution_count": 3,
   "id": "369d3b3c-18a0-4fef-ae4b-e3172205951b",
   "metadata": {},
   "outputs": [
    {
     "data": {
      "text/plain": [
       "(462, 11)"
      ]
     },
     "execution_count": 3,
     "metadata": {},
     "output_type": "execute_result"
    }
   ],
   "source": [
    "df.shape"
   ]
  },
  {
   "cell_type": "code",
   "execution_count": 4,
   "id": "0235d4ef-5e98-4cef-9767-7d7a5e93f4bb",
   "metadata": {},
   "outputs": [
    {
     "data": {
      "text/plain": [
       "dx_binary\n",
       "1    235\n",
       "0    227\n",
       "Name: count, dtype: int64"
      ]
     },
     "execution_count": 4,
     "metadata": {},
     "output_type": "execute_result"
    }
   ],
   "source": [
    "df['dx_binary'].value_counts()"
   ]
  },
  {
   "cell_type": "code",
   "execution_count": 6,
   "id": "61e2a745-62b3-40c9-bb41-027222f8e032",
   "metadata": {},
   "outputs": [
    {
     "data": {
      "text/plain": [
       "dx_binary\n",
       "1    50.865801\n",
       "0    49.134199\n",
       "Name: count, dtype: float64"
      ]
     },
     "execution_count": 6,
     "metadata": {},
     "output_type": "execute_result"
    }
   ],
   "source": [
    "df['dx_binary'].value_counts() / df.shape[0] * 100"
   ]
  },
  {
   "cell_type": "code",
   "execution_count": 7,
   "id": "6a25cf3e-cb94-4546-ba53-14ff75406418",
   "metadata": {},
   "outputs": [
    {
     "data": {
      "text/plain": [
       "count    462.000000\n",
       "mean      23.376623\n",
       "std        6.814949\n",
       "min        1.000000\n",
       "25%       18.000000\n",
       "50%       26.500000\n",
       "75%       29.000000\n",
       "max       30.000000\n",
       "Name: mmse, dtype: float64"
      ]
     },
     "execution_count": 7,
     "metadata": {},
     "output_type": "execute_result"
    }
   ],
   "source": [
    "df['mmse'].describe()"
   ]
  },
  {
   "cell_type": "code",
   "execution_count": 10,
   "id": "471e5221-0ea5-44bc-bba8-16bd79dc7e4a",
   "metadata": {},
   "outputs": [
    {
     "data": {
      "text/plain": [
       "count    235.000000\n",
       "mean      17.978723\n",
       "std        5.530372\n",
       "min        1.000000\n",
       "25%       14.000000\n",
       "50%       18.000000\n",
       "75%       22.000000\n",
       "max       30.000000\n",
       "Name: mmse, dtype: float64"
      ]
     },
     "execution_count": 10,
     "metadata": {},
     "output_type": "execute_result"
    }
   ],
   "source": [
    "df[df['dx_binary']==1]['mmse'].describe()"
   ]
  },
  {
   "cell_type": "code",
   "execution_count": 11,
   "id": "b16b4daf-213b-46d5-b4f0-07e12412bfd5",
   "metadata": {},
   "outputs": [
    {
     "data": {
      "text/plain": [
       "count    227.000000\n",
       "mean      28.964758\n",
       "std        1.185678\n",
       "min       24.000000\n",
       "25%       28.000000\n",
       "50%       29.000000\n",
       "75%       30.000000\n",
       "max       30.000000\n",
       "Name: mmse, dtype: float64"
      ]
     },
     "execution_count": 11,
     "metadata": {},
     "output_type": "execute_result"
    }
   ],
   "source": [
    "df[df['dx_binary']==0]['mmse'].describe()"
   ]
  },
  {
   "cell_type": "code",
   "execution_count": 12,
   "id": "a6be3141-8cfd-44f9-b175-d60ec0c8381e",
   "metadata": {},
   "outputs": [
    {
     "data": {
      "text/plain": [
       "0"
      ]
     },
     "execution_count": 12,
     "metadata": {},
     "output_type": "execute_result"
    }
   ],
   "source": [
    "df['mmse'].isna().sum()"
   ]
  },
  {
   "cell_type": "markdown",
   "id": "a4e2c92d-69bc-4c39-ae25-7e4e4ad76bea",
   "metadata": {},
   "source": [
    "## EV 1: English 1"
   ]
  },
  {
   "cell_type": "code",
   "execution_count": 13,
   "id": "3ba00f3e-7854-4362-a763-83dfe2441fb5",
   "metadata": {},
   "outputs": [
    {
     "data": {
      "text/html": [
       "<div>\n",
       "<style scoped>\n",
       "    .dataframe tbody tr th:only-of-type {\n",
       "        vertical-align: middle;\n",
       "    }\n",
       "\n",
       "    .dataframe tbody tr th {\n",
       "        vertical-align: top;\n",
       "    }\n",
       "\n",
       "    .dataframe thead th {\n",
       "        text-align: right;\n",
       "    }\n",
       "</style>\n",
       "<table border=\"1\" class=\"dataframe\">\n",
       "  <thead>\n",
       "    <tr style=\"text-align: right;\">\n",
       "      <th></th>\n",
       "      <th>filename</th>\n",
       "      <th>record_id</th>\n",
       "      <th>subject_id</th>\n",
       "      <th>age</th>\n",
       "      <th>sex</th>\n",
       "      <th>educ</th>\n",
       "      <th>mmse</th>\n",
       "      <th>dx</th>\n",
       "      <th>dx_binary</th>\n",
       "      <th>dataset</th>\n",
       "      <th>language</th>\n",
       "    </tr>\n",
       "  </thead>\n",
       "  <tbody>\n",
       "    <tr>\n",
       "      <th>0</th>\n",
       "      <td>taukdial-002-3.csv</td>\n",
       "      <td>taukdial-002-3</td>\n",
       "      <td>taukdial-002</td>\n",
       "      <td>72.0</td>\n",
       "      <td>F</td>\n",
       "      <td>NaN</td>\n",
       "      <td>29.0</td>\n",
       "      <td>NC</td>\n",
       "      <td>0</td>\n",
       "      <td>TAUKADIAL</td>\n",
       "      <td>en</td>\n",
       "    </tr>\n",
       "    <tr>\n",
       "      <th>1</th>\n",
       "      <td>taukdial-005-3.csv</td>\n",
       "      <td>taukdial-005-3</td>\n",
       "      <td>taukdial-005</td>\n",
       "      <td>68.0</td>\n",
       "      <td>F</td>\n",
       "      <td>NaN</td>\n",
       "      <td>29.0</td>\n",
       "      <td>NC</td>\n",
       "      <td>0</td>\n",
       "      <td>TAUKADIAL</td>\n",
       "      <td>en</td>\n",
       "    </tr>\n",
       "    <tr>\n",
       "      <th>2</th>\n",
       "      <td>taukdial-008-3.csv</td>\n",
       "      <td>taukdial-008-3</td>\n",
       "      <td>taukdial-008</td>\n",
       "      <td>84.0</td>\n",
       "      <td>F</td>\n",
       "      <td>NaN</td>\n",
       "      <td>29.0</td>\n",
       "      <td>NC</td>\n",
       "      <td>0</td>\n",
       "      <td>TAUKADIAL</td>\n",
       "      <td>en</td>\n",
       "    </tr>\n",
       "    <tr>\n",
       "      <th>3</th>\n",
       "      <td>taukdial-010-3.csv</td>\n",
       "      <td>taukdial-010-3</td>\n",
       "      <td>taukdial-010</td>\n",
       "      <td>91.0</td>\n",
       "      <td>F</td>\n",
       "      <td>NaN</td>\n",
       "      <td>27.0</td>\n",
       "      <td>MCI</td>\n",
       "      <td>1</td>\n",
       "      <td>TAUKADIAL</td>\n",
       "      <td>en</td>\n",
       "    </tr>\n",
       "    <tr>\n",
       "      <th>4</th>\n",
       "      <td>taukdial-011-3.csv</td>\n",
       "      <td>taukdial-011-3</td>\n",
       "      <td>taukdial-011</td>\n",
       "      <td>66.0</td>\n",
       "      <td>F</td>\n",
       "      <td>NaN</td>\n",
       "      <td>25.0</td>\n",
       "      <td>MCI</td>\n",
       "      <td>1</td>\n",
       "      <td>TAUKADIAL</td>\n",
       "      <td>en</td>\n",
       "    </tr>\n",
       "  </tbody>\n",
       "</table>\n",
       "</div>"
      ],
      "text/plain": [
       "             filename       record_id    subject_id   age sex  educ  mmse  \\\n",
       "0  taukdial-002-3.csv  taukdial-002-3  taukdial-002  72.0   F   NaN  29.0   \n",
       "1  taukdial-005-3.csv  taukdial-005-3  taukdial-005  68.0   F   NaN  29.0   \n",
       "2  taukdial-008-3.csv  taukdial-008-3  taukdial-008  84.0   F   NaN  29.0   \n",
       "3  taukdial-010-3.csv  taukdial-010-3  taukdial-010  91.0   F   NaN  27.0   \n",
       "4  taukdial-011-3.csv  taukdial-011-3  taukdial-011  66.0   F   NaN  25.0   \n",
       "\n",
       "    dx  dx_binary    dataset language  \n",
       "0   NC          0  TAUKADIAL       en  \n",
       "1   NC          0  TAUKADIAL       en  \n",
       "2   NC          0  TAUKADIAL       en  \n",
       "3  MCI          1  TAUKADIAL       en  \n",
       "4  MCI          1  TAUKADIAL       en  "
      ]
     },
     "execution_count": 13,
     "metadata": {},
     "output_type": "execute_result"
    }
   ],
   "source": [
    "metadata = '/Users/jimuelcelestejr/Downloads/Dataset/Thesis - Features/Thesis - Acoustic Features/egemaps_functionals/metadata_ev_english_control.csv'\n",
    "df = pd.read_csv(metadata)\n",
    "df.head()"
   ]
  },
  {
   "cell_type": "code",
   "execution_count": 14,
   "id": "8b790344-ff87-45a0-9f68-2535ee66ff1a",
   "metadata": {},
   "outputs": [
    {
     "data": {
      "text/plain": [
       "(82, 11)"
      ]
     },
     "execution_count": 14,
     "metadata": {},
     "output_type": "execute_result"
    }
   ],
   "source": [
    "df.shape"
   ]
  },
  {
   "cell_type": "code",
   "execution_count": 17,
   "id": "7fcbaa4b-0b8b-4d53-8104-613818778b5a",
   "metadata": {},
   "outputs": [
    {
     "data": {
      "text/plain": [
       "dx\n",
       "MCI    51\n",
       "NC     31\n",
       "Name: count, dtype: int64"
      ]
     },
     "execution_count": 17,
     "metadata": {},
     "output_type": "execute_result"
    }
   ],
   "source": [
    "df['dx'].value_counts()"
   ]
  },
  {
   "cell_type": "code",
   "execution_count": 18,
   "id": "d8b0b604-e3ba-4fff-b820-6add3fe8e0e8",
   "metadata": {},
   "outputs": [
    {
     "data": {
      "text/plain": [
       "dx\n",
       "MCI    62.195122\n",
       "NC     37.804878\n",
       "Name: count, dtype: float64"
      ]
     },
     "execution_count": 18,
     "metadata": {},
     "output_type": "execute_result"
    }
   ],
   "source": [
    "df['dx'].value_counts() / df.shape[0] * 100"
   ]
  },
  {
   "cell_type": "code",
   "execution_count": 19,
   "id": "3c5b3c20-3161-44b3-963f-b0fd8894463b",
   "metadata": {},
   "outputs": [
    {
     "data": {
      "text/plain": [
       "count    82.000000\n",
       "mean     28.280488\n",
       "std       1.279220\n",
       "min      25.000000\n",
       "25%      27.250000\n",
       "50%      29.000000\n",
       "75%      29.000000\n",
       "max      30.000000\n",
       "Name: mmse, dtype: float64"
      ]
     },
     "execution_count": 19,
     "metadata": {},
     "output_type": "execute_result"
    }
   ],
   "source": [
    "df['mmse'].describe()"
   ]
  },
  {
   "cell_type": "code",
   "execution_count": 20,
   "id": "9421000b-024e-4893-929c-e1806d0cbc82",
   "metadata": {},
   "outputs": [
    {
     "data": {
      "text/plain": [
       "count    51.000000\n",
       "mean     27.686275\n",
       "std       1.224585\n",
       "min      25.000000\n",
       "25%      27.000000\n",
       "50%      28.000000\n",
       "75%      29.000000\n",
       "max      30.000000\n",
       "Name: mmse, dtype: float64"
      ]
     },
     "execution_count": 20,
     "metadata": {},
     "output_type": "execute_result"
    }
   ],
   "source": [
    "df[df['dx_binary']==1]['mmse'].describe()"
   ]
  },
  {
   "cell_type": "code",
   "execution_count": 21,
   "id": "ea3be797-408c-4f2e-bcec-7cb4fdc756c0",
   "metadata": {},
   "outputs": [
    {
     "data": {
      "text/plain": [
       "count    31.000000\n",
       "mean     29.258065\n",
       "std       0.575485\n",
       "min      28.000000\n",
       "25%      29.000000\n",
       "50%      29.000000\n",
       "75%      30.000000\n",
       "max      30.000000\n",
       "Name: mmse, dtype: float64"
      ]
     },
     "execution_count": 21,
     "metadata": {},
     "output_type": "execute_result"
    }
   ],
   "source": [
    "df[df['dx_binary']==0]['mmse'].describe()"
   ]
  },
  {
   "cell_type": "code",
   "execution_count": 22,
   "id": "7387c28e-4b2c-4ebf-bd2f-a8b244d8be15",
   "metadata": {},
   "outputs": [
    {
     "data": {
      "text/plain": [
       "0"
      ]
     },
     "execution_count": 22,
     "metadata": {},
     "output_type": "execute_result"
    }
   ],
   "source": [
    "df['mmse'].isna().sum()"
   ]
  },
  {
   "cell_type": "markdown",
   "id": "17448808-a733-4c33-a992-46cf953b7d98",
   "metadata": {},
   "source": [
    "## EV 2: English 2"
   ]
  },
  {
   "cell_type": "code",
   "execution_count": 23,
   "id": "99c8f08d-c30f-4311-a473-f606622d61f2",
   "metadata": {},
   "outputs": [
    {
     "data": {
      "text/html": [
       "<div>\n",
       "<style scoped>\n",
       "    .dataframe tbody tr th:only-of-type {\n",
       "        vertical-align: middle;\n",
       "    }\n",
       "\n",
       "    .dataframe tbody tr th {\n",
       "        vertical-align: top;\n",
       "    }\n",
       "\n",
       "    .dataframe thead th {\n",
       "        text-align: right;\n",
       "    }\n",
       "</style>\n",
       "<table border=\"1\" class=\"dataframe\">\n",
       "  <thead>\n",
       "    <tr style=\"text-align: right;\">\n",
       "      <th></th>\n",
       "      <th>filename</th>\n",
       "      <th>record_id</th>\n",
       "      <th>subject_id</th>\n",
       "      <th>age</th>\n",
       "      <th>sex</th>\n",
       "      <th>educ</th>\n",
       "      <th>mmse</th>\n",
       "      <th>dx</th>\n",
       "      <th>dx_binary</th>\n",
       "      <th>dataset</th>\n",
       "      <th>language</th>\n",
       "    </tr>\n",
       "  </thead>\n",
       "  <tbody>\n",
       "    <tr>\n",
       "      <th>0</th>\n",
       "      <td>taukdial-002-1.csv</td>\n",
       "      <td>taukdial-002-1</td>\n",
       "      <td>taukdial-002</td>\n",
       "      <td>72.0</td>\n",
       "      <td>F</td>\n",
       "      <td>NaN</td>\n",
       "      <td>29.0</td>\n",
       "      <td>NC</td>\n",
       "      <td>0</td>\n",
       "      <td>TAUKADIAL</td>\n",
       "      <td>en</td>\n",
       "    </tr>\n",
       "    <tr>\n",
       "      <th>1</th>\n",
       "      <td>taukdial-002-2.csv</td>\n",
       "      <td>taukdial-002-2</td>\n",
       "      <td>taukdial-002</td>\n",
       "      <td>72.0</td>\n",
       "      <td>F</td>\n",
       "      <td>NaN</td>\n",
       "      <td>29.0</td>\n",
       "      <td>NC</td>\n",
       "      <td>0</td>\n",
       "      <td>TAUKADIAL</td>\n",
       "      <td>en</td>\n",
       "    </tr>\n",
       "    <tr>\n",
       "      <th>2</th>\n",
       "      <td>taukdial-005-1.csv</td>\n",
       "      <td>taukdial-005-1</td>\n",
       "      <td>taukdial-005</td>\n",
       "      <td>68.0</td>\n",
       "      <td>F</td>\n",
       "      <td>NaN</td>\n",
       "      <td>29.0</td>\n",
       "      <td>NC</td>\n",
       "      <td>0</td>\n",
       "      <td>TAUKADIAL</td>\n",
       "      <td>en</td>\n",
       "    </tr>\n",
       "    <tr>\n",
       "      <th>3</th>\n",
       "      <td>taukdial-005-2.csv</td>\n",
       "      <td>taukdial-005-2</td>\n",
       "      <td>taukdial-005</td>\n",
       "      <td>68.0</td>\n",
       "      <td>F</td>\n",
       "      <td>NaN</td>\n",
       "      <td>29.0</td>\n",
       "      <td>NC</td>\n",
       "      <td>0</td>\n",
       "      <td>TAUKADIAL</td>\n",
       "      <td>en</td>\n",
       "    </tr>\n",
       "    <tr>\n",
       "      <th>4</th>\n",
       "      <td>taukdial-008-1.csv</td>\n",
       "      <td>taukdial-008-1</td>\n",
       "      <td>taukdial-008</td>\n",
       "      <td>84.0</td>\n",
       "      <td>F</td>\n",
       "      <td>NaN</td>\n",
       "      <td>29.0</td>\n",
       "      <td>NC</td>\n",
       "      <td>0</td>\n",
       "      <td>TAUKADIAL</td>\n",
       "      <td>en</td>\n",
       "    </tr>\n",
       "  </tbody>\n",
       "</table>\n",
       "</div>"
      ],
      "text/plain": [
       "             filename       record_id    subject_id   age sex  educ  mmse  dx  \\\n",
       "0  taukdial-002-1.csv  taukdial-002-1  taukdial-002  72.0   F   NaN  29.0  NC   \n",
       "1  taukdial-002-2.csv  taukdial-002-2  taukdial-002  72.0   F   NaN  29.0  NC   \n",
       "2  taukdial-005-1.csv  taukdial-005-1  taukdial-005  68.0   F   NaN  29.0  NC   \n",
       "3  taukdial-005-2.csv  taukdial-005-2  taukdial-005  68.0   F   NaN  29.0  NC   \n",
       "4  taukdial-008-1.csv  taukdial-008-1  taukdial-008  84.0   F   NaN  29.0  NC   \n",
       "\n",
       "   dx_binary    dataset language  \n",
       "0          0  TAUKADIAL       en  \n",
       "1          0  TAUKADIAL       en  \n",
       "2          0  TAUKADIAL       en  \n",
       "3          0  TAUKADIAL       en  \n",
       "4          0  TAUKADIAL       en  "
      ]
     },
     "execution_count": 23,
     "metadata": {},
     "output_type": "execute_result"
    }
   ],
   "source": [
    "metadata = '/Users/jimuelcelestejr/Downloads/Dataset/Thesis - Features/Thesis - Acoustic Features/egemaps_functionals/metadata_ev_english.csv'\n",
    "df = pd.read_csv(metadata)\n",
    "df.head()"
   ]
  },
  {
   "cell_type": "code",
   "execution_count": 24,
   "id": "575f495c-4ebc-43fa-99a8-1f5a4813f93c",
   "metadata": {},
   "outputs": [
    {
     "data": {
      "text/plain": [
       "(164, 11)"
      ]
     },
     "execution_count": 24,
     "metadata": {},
     "output_type": "execute_result"
    }
   ],
   "source": [
    "df.shape"
   ]
  },
  {
   "cell_type": "code",
   "execution_count": 26,
   "id": "72bf09be-a23e-49bf-ad23-1a583725f103",
   "metadata": {},
   "outputs": [
    {
     "data": {
      "text/plain": [
       "dx\n",
       "MCI    102\n",
       "NC      62\n",
       "Name: count, dtype: int64"
      ]
     },
     "execution_count": 26,
     "metadata": {},
     "output_type": "execute_result"
    }
   ],
   "source": [
    "df['dx'].value_counts()"
   ]
  },
  {
   "cell_type": "code",
   "execution_count": 27,
   "id": "e4c31b5d-22a8-42cc-9760-02a0b633825b",
   "metadata": {},
   "outputs": [
    {
     "data": {
      "text/plain": [
       "dx\n",
       "MCI    62.195122\n",
       "NC     37.804878\n",
       "Name: count, dtype: float64"
      ]
     },
     "execution_count": 27,
     "metadata": {},
     "output_type": "execute_result"
    }
   ],
   "source": [
    "df['dx'].value_counts() / df.shape[0] * 100"
   ]
  },
  {
   "cell_type": "code",
   "execution_count": 29,
   "id": "f648f6a5-ab47-4847-930c-d3b9161d343e",
   "metadata": {},
   "outputs": [
    {
     "data": {
      "text/plain": [
       "count    164.000000\n",
       "mean      28.280488\n",
       "std        1.275290\n",
       "min       25.000000\n",
       "25%       27.000000\n",
       "50%       29.000000\n",
       "75%       29.000000\n",
       "max       30.000000\n",
       "Name: mmse, dtype: float64"
      ]
     },
     "execution_count": 29,
     "metadata": {},
     "output_type": "execute_result"
    }
   ],
   "source": [
    "df['mmse'].describe()"
   ]
  },
  {
   "cell_type": "code",
   "execution_count": 30,
   "id": "77e8eea8-cabe-45ae-9f47-0cde6ebc1d82",
   "metadata": {},
   "outputs": [
    {
     "data": {
      "text/plain": [
       "count    102.000000\n",
       "mean      27.686275\n",
       "std        1.218507\n",
       "min       25.000000\n",
       "25%       27.000000\n",
       "50%       28.000000\n",
       "75%       29.000000\n",
       "max       30.000000\n",
       "Name: mmse, dtype: float64"
      ]
     },
     "execution_count": 30,
     "metadata": {},
     "output_type": "execute_result"
    }
   ],
   "source": [
    "df[df['dx_binary']==1]['mmse'].describe()"
   ]
  },
  {
   "cell_type": "code",
   "execution_count": 31,
   "id": "44940120-0dd7-415e-a4fa-1b278ea3fca2",
   "metadata": {},
   "outputs": [
    {
     "data": {
      "text/plain": [
       "count    62.000000\n",
       "mean     29.258065\n",
       "std       0.570748\n",
       "min      28.000000\n",
       "25%      29.000000\n",
       "50%      29.000000\n",
       "75%      30.000000\n",
       "max      30.000000\n",
       "Name: mmse, dtype: float64"
      ]
     },
     "execution_count": 31,
     "metadata": {},
     "output_type": "execute_result"
    }
   ],
   "source": [
    "df[df['dx_binary']==0]['mmse'].describe()"
   ]
  },
  {
   "cell_type": "code",
   "execution_count": null,
   "id": "becf3a07-6dc0-48d4-b5bb-91637c69aba2",
   "metadata": {},
   "outputs": [],
   "source": [
    "df['mmse'].isna().sum()"
   ]
  },
  {
   "cell_type": "markdown",
   "id": "158aa02f-b2c4-4056-9702-4e8bad8353d1",
   "metadata": {},
   "source": [
    "## EV 3: Greek"
   ]
  },
  {
   "cell_type": "code",
   "execution_count": 33,
   "id": "6458d7db-ad64-4b18-ae3f-90108249435b",
   "metadata": {},
   "outputs": [
    {
     "data": {
      "text/html": [
       "<div>\n",
       "<style scoped>\n",
       "    .dataframe tbody tr th:only-of-type {\n",
       "        vertical-align: middle;\n",
       "    }\n",
       "\n",
       "    .dataframe tbody tr th {\n",
       "        vertical-align: top;\n",
       "    }\n",
       "\n",
       "    .dataframe thead th {\n",
       "        text-align: right;\n",
       "    }\n",
       "</style>\n",
       "<table border=\"1\" class=\"dataframe\">\n",
       "  <thead>\n",
       "    <tr style=\"text-align: right;\">\n",
       "      <th></th>\n",
       "      <th>filename</th>\n",
       "      <th>record_id</th>\n",
       "      <th>subject_id</th>\n",
       "      <th>age</th>\n",
       "      <th>sex</th>\n",
       "      <th>educ</th>\n",
       "      <th>mmse</th>\n",
       "      <th>dx</th>\n",
       "      <th>dx_binary</th>\n",
       "      <th>dataset</th>\n",
       "      <th>language</th>\n",
       "    </tr>\n",
       "  </thead>\n",
       "  <tbody>\n",
       "    <tr>\n",
       "      <th>0</th>\n",
       "      <td>madrs002.csv</td>\n",
       "      <td>madrs002</td>\n",
       "      <td>madrs002</td>\n",
       "      <td>78.0</td>\n",
       "      <td>F</td>\n",
       "      <td>0.0</td>\n",
       "      <td>24.0</td>\n",
       "      <td>Probable AD</td>\n",
       "      <td>1</td>\n",
       "      <td>ADReSS-M</td>\n",
       "      <td>el</td>\n",
       "    </tr>\n",
       "    <tr>\n",
       "      <th>1</th>\n",
       "      <td>madrs009.csv</td>\n",
       "      <td>madrs009</td>\n",
       "      <td>madrs009</td>\n",
       "      <td>60.0</td>\n",
       "      <td>F</td>\n",
       "      <td>6.0</td>\n",
       "      <td>29.0</td>\n",
       "      <td>NC</td>\n",
       "      <td>0</td>\n",
       "      <td>ADReSS-M</td>\n",
       "      <td>el</td>\n",
       "    </tr>\n",
       "    <tr>\n",
       "      <th>2</th>\n",
       "      <td>madrs010.csv</td>\n",
       "      <td>madrs010</td>\n",
       "      <td>madrs010</td>\n",
       "      <td>62.0</td>\n",
       "      <td>F</td>\n",
       "      <td>16.0</td>\n",
       "      <td>30.0</td>\n",
       "      <td>NC</td>\n",
       "      <td>0</td>\n",
       "      <td>ADReSS-M</td>\n",
       "      <td>el</td>\n",
       "    </tr>\n",
       "    <tr>\n",
       "      <th>3</th>\n",
       "      <td>madrs012.csv</td>\n",
       "      <td>madrs012</td>\n",
       "      <td>madrs012</td>\n",
       "      <td>82.0</td>\n",
       "      <td>F</td>\n",
       "      <td>15.0</td>\n",
       "      <td>23.0</td>\n",
       "      <td>Probable AD</td>\n",
       "      <td>1</td>\n",
       "      <td>ADReSS-M</td>\n",
       "      <td>el</td>\n",
       "    </tr>\n",
       "    <tr>\n",
       "      <th>4</th>\n",
       "      <td>madrs013.csv</td>\n",
       "      <td>madrs013</td>\n",
       "      <td>madrs013</td>\n",
       "      <td>63.0</td>\n",
       "      <td>F</td>\n",
       "      <td>10.0</td>\n",
       "      <td>29.0</td>\n",
       "      <td>NC</td>\n",
       "      <td>0</td>\n",
       "      <td>ADReSS-M</td>\n",
       "      <td>el</td>\n",
       "    </tr>\n",
       "  </tbody>\n",
       "</table>\n",
       "</div>"
      ],
      "text/plain": [
       "       filename record_id subject_id   age sex  educ  mmse           dx  \\\n",
       "0  madrs002.csv  madrs002   madrs002  78.0   F   0.0  24.0  Probable AD   \n",
       "1  madrs009.csv  madrs009   madrs009  60.0   F   6.0  29.0           NC   \n",
       "2  madrs010.csv  madrs010   madrs010  62.0   F  16.0  30.0           NC   \n",
       "3  madrs012.csv  madrs012   madrs012  82.0   F  15.0  23.0  Probable AD   \n",
       "4  madrs013.csv  madrs013   madrs013  63.0   F  10.0  29.0           NC   \n",
       "\n",
       "   dx_binary   dataset language  \n",
       "0          1  ADReSS-M       el  \n",
       "1          0  ADReSS-M       el  \n",
       "2          0  ADReSS-M       el  \n",
       "3          1  ADReSS-M       el  \n",
       "4          0  ADReSS-M       el  "
      ]
     },
     "execution_count": 33,
     "metadata": {},
     "output_type": "execute_result"
    }
   ],
   "source": [
    "metadata = '/Users/jimuelcelestejr/Downloads/Dataset/Thesis - Features/Thesis - Acoustic Features/egemaps_functionals/metadata_ev_greek.csv'\n",
    "df = pd.read_csv(metadata)\n",
    "df.head()"
   ]
  },
  {
   "cell_type": "code",
   "execution_count": 34,
   "id": "27e1d09b-1612-4851-ad6b-b0ac3144a892",
   "metadata": {},
   "outputs": [
    {
     "data": {
      "text/plain": [
       "(54, 11)"
      ]
     },
     "execution_count": 34,
     "metadata": {},
     "output_type": "execute_result"
    }
   ],
   "source": [
    "df.shape"
   ]
  },
  {
   "cell_type": "code",
   "execution_count": 35,
   "id": "d4378200-303b-452f-b50f-77b3a39098f0",
   "metadata": {},
   "outputs": [
    {
     "data": {
      "text/plain": [
       "dx\n",
       "NC             28\n",
       "Probable AD    26\n",
       "Name: count, dtype: int64"
      ]
     },
     "execution_count": 35,
     "metadata": {},
     "output_type": "execute_result"
    }
   ],
   "source": [
    "df['dx'].value_counts()"
   ]
  },
  {
   "cell_type": "code",
   "execution_count": 37,
   "id": "593b5f10-1227-4de8-950b-1d439ce16ef4",
   "metadata": {},
   "outputs": [
    {
     "data": {
      "text/plain": [
       "dx\n",
       "NC             51.851852\n",
       "Probable AD    48.148148\n",
       "Name: count, dtype: float64"
      ]
     },
     "execution_count": 37,
     "metadata": {},
     "output_type": "execute_result"
    }
   ],
   "source": [
    "df['dx'].value_counts() / df.shape[0] * 100"
   ]
  },
  {
   "cell_type": "code",
   "execution_count": 38,
   "id": "21c960c6-3900-46dc-9afd-3d2e1a1747e4",
   "metadata": {},
   "outputs": [
    {
     "data": {
      "text/plain": [
       "count    54.000000\n",
       "mean     25.185185\n",
       "std       5.077044\n",
       "min      12.000000\n",
       "25%      23.000000\n",
       "50%      27.000000\n",
       "75%      29.000000\n",
       "max      30.000000\n",
       "Name: mmse, dtype: float64"
      ]
     },
     "execution_count": 38,
     "metadata": {},
     "output_type": "execute_result"
    }
   ],
   "source": [
    "df['mmse'].describe()"
   ]
  },
  {
   "cell_type": "code",
   "execution_count": 39,
   "id": "206efd65-d4a7-4914-a8c5-7539c07bb97a",
   "metadata": {},
   "outputs": [
    {
     "data": {
      "text/plain": [
       "count    26.000000\n",
       "mean     21.115385\n",
       "std       4.483989\n",
       "min      12.000000\n",
       "25%      18.250000\n",
       "50%      23.000000\n",
       "75%      24.750000\n",
       "max      27.000000\n",
       "Name: mmse, dtype: float64"
      ]
     },
     "execution_count": 39,
     "metadata": {},
     "output_type": "execute_result"
    }
   ],
   "source": [
    "df[df['dx_binary']==1]['mmse'].describe()"
   ]
  },
  {
   "cell_type": "code",
   "execution_count": 40,
   "id": "e2231110-25c7-4008-b49a-ecd68bee1772",
   "metadata": {},
   "outputs": [
    {
     "data": {
      "text/plain": [
       "count    28.000000\n",
       "mean     28.964286\n",
       "std       1.104943\n",
       "min      26.000000\n",
       "25%      28.000000\n",
       "50%      29.000000\n",
       "75%      30.000000\n",
       "max      30.000000\n",
       "Name: mmse, dtype: float64"
      ]
     },
     "execution_count": 40,
     "metadata": {},
     "output_type": "execute_result"
    }
   ],
   "source": [
    "df[df['dx_binary']==0]['mmse'].describe()"
   ]
  },
  {
   "cell_type": "markdown",
   "id": "8f3f94a8-20a8-4c50-9aa7-779acb79d27f",
   "metadata": {},
   "source": [
    "## EV 4: Chinese"
   ]
  },
  {
   "cell_type": "code",
   "execution_count": 41,
   "id": "33d9af9f-c338-496e-8389-fa50b597629e",
   "metadata": {},
   "outputs": [
    {
     "data": {
      "text/html": [
       "<div>\n",
       "<style scoped>\n",
       "    .dataframe tbody tr th:only-of-type {\n",
       "        vertical-align: middle;\n",
       "    }\n",
       "\n",
       "    .dataframe tbody tr th {\n",
       "        vertical-align: top;\n",
       "    }\n",
       "\n",
       "    .dataframe thead th {\n",
       "        text-align: right;\n",
       "    }\n",
       "</style>\n",
       "<table border=\"1\" class=\"dataframe\">\n",
       "  <thead>\n",
       "    <tr style=\"text-align: right;\">\n",
       "      <th></th>\n",
       "      <th>filename</th>\n",
       "      <th>record_id</th>\n",
       "      <th>subject_id</th>\n",
       "      <th>age</th>\n",
       "      <th>sex</th>\n",
       "      <th>educ</th>\n",
       "      <th>mmse</th>\n",
       "      <th>dx</th>\n",
       "      <th>dx_binary</th>\n",
       "      <th>dataset</th>\n",
       "      <th>language</th>\n",
       "    </tr>\n",
       "  </thead>\n",
       "  <tbody>\n",
       "    <tr>\n",
       "      <th>0</th>\n",
       "      <td>taukdial-001-1.csv</td>\n",
       "      <td>taukdial-001-1</td>\n",
       "      <td>taukdial-001</td>\n",
       "      <td>70.0</td>\n",
       "      <td>F</td>\n",
       "      <td>NaN</td>\n",
       "      <td>27.0</td>\n",
       "      <td>NC</td>\n",
       "      <td>0</td>\n",
       "      <td>TAUKADIAL</td>\n",
       "      <td>zh</td>\n",
       "    </tr>\n",
       "    <tr>\n",
       "      <th>1</th>\n",
       "      <td>taukdial-001-2.csv</td>\n",
       "      <td>taukdial-001-2</td>\n",
       "      <td>taukdial-001</td>\n",
       "      <td>70.0</td>\n",
       "      <td>F</td>\n",
       "      <td>NaN</td>\n",
       "      <td>27.0</td>\n",
       "      <td>NC</td>\n",
       "      <td>0</td>\n",
       "      <td>TAUKADIAL</td>\n",
       "      <td>zh</td>\n",
       "    </tr>\n",
       "    <tr>\n",
       "      <th>2</th>\n",
       "      <td>taukdial-001-3.csv</td>\n",
       "      <td>taukdial-001-3</td>\n",
       "      <td>taukdial-001</td>\n",
       "      <td>70.0</td>\n",
       "      <td>F</td>\n",
       "      <td>NaN</td>\n",
       "      <td>27.0</td>\n",
       "      <td>NC</td>\n",
       "      <td>0</td>\n",
       "      <td>TAUKADIAL</td>\n",
       "      <td>zh</td>\n",
       "    </tr>\n",
       "    <tr>\n",
       "      <th>3</th>\n",
       "      <td>taukdial-003-1.csv</td>\n",
       "      <td>taukdial-003-1</td>\n",
       "      <td>taukdial-003</td>\n",
       "      <td>80.0</td>\n",
       "      <td>M</td>\n",
       "      <td>NaN</td>\n",
       "      <td>23.0</td>\n",
       "      <td>MCI</td>\n",
       "      <td>1</td>\n",
       "      <td>TAUKADIAL</td>\n",
       "      <td>zh</td>\n",
       "    </tr>\n",
       "    <tr>\n",
       "      <th>4</th>\n",
       "      <td>taukdial-003-2.csv</td>\n",
       "      <td>taukdial-003-2</td>\n",
       "      <td>taukdial-003</td>\n",
       "      <td>80.0</td>\n",
       "      <td>M</td>\n",
       "      <td>NaN</td>\n",
       "      <td>23.0</td>\n",
       "      <td>MCI</td>\n",
       "      <td>1</td>\n",
       "      <td>TAUKADIAL</td>\n",
       "      <td>zh</td>\n",
       "    </tr>\n",
       "  </tbody>\n",
       "</table>\n",
       "</div>"
      ],
      "text/plain": [
       "             filename       record_id    subject_id   age sex  educ  mmse  \\\n",
       "0  taukdial-001-1.csv  taukdial-001-1  taukdial-001  70.0   F   NaN  27.0   \n",
       "1  taukdial-001-2.csv  taukdial-001-2  taukdial-001  70.0   F   NaN  27.0   \n",
       "2  taukdial-001-3.csv  taukdial-001-3  taukdial-001  70.0   F   NaN  27.0   \n",
       "3  taukdial-003-1.csv  taukdial-003-1  taukdial-003  80.0   M   NaN  23.0   \n",
       "4  taukdial-003-2.csv  taukdial-003-2  taukdial-003  80.0   M   NaN  23.0   \n",
       "\n",
       "    dx  dx_binary    dataset language  \n",
       "0   NC          0  TAUKADIAL       zh  \n",
       "1   NC          0  TAUKADIAL       zh  \n",
       "2   NC          0  TAUKADIAL       zh  \n",
       "3  MCI          1  TAUKADIAL       zh  \n",
       "4  MCI          1  TAUKADIAL       zh  "
      ]
     },
     "execution_count": 41,
     "metadata": {},
     "output_type": "execute_result"
    }
   ],
   "source": [
    "metadata = '/Users/jimuelcelestejr/Downloads/Dataset/Thesis - Features/Thesis - Acoustic Features/egemaps_functionals/metadata_ev_chinese.csv'\n",
    "df = pd.read_csv(metadata)\n",
    "df.head()"
   ]
  },
  {
   "cell_type": "code",
   "execution_count": 42,
   "id": "4f0af59a-8bd9-49d7-abee-d16e0a99556c",
   "metadata": {},
   "outputs": [
    {
     "data": {
      "text/plain": [
       "(261, 11)"
      ]
     },
     "execution_count": 42,
     "metadata": {},
     "output_type": "execute_result"
    }
   ],
   "source": [
    "df.shape"
   ]
  },
  {
   "cell_type": "code",
   "execution_count": 43,
   "id": "492e2c29-7f9f-44b7-8e6b-5b333430918f",
   "metadata": {},
   "outputs": [
    {
     "data": {
      "text/plain": [
       "dx\n",
       "MCI    132\n",
       "NC     129\n",
       "Name: count, dtype: int64"
      ]
     },
     "execution_count": 43,
     "metadata": {},
     "output_type": "execute_result"
    }
   ],
   "source": [
    "df['dx'].value_counts()"
   ]
  },
  {
   "cell_type": "code",
   "execution_count": 44,
   "id": "e4970ceb-f142-4db1-8e57-7048177d0b81",
   "metadata": {},
   "outputs": [
    {
     "data": {
      "text/plain": [
       "dx\n",
       "MCI    50.574713\n",
       "NC     49.425287\n",
       "Name: count, dtype: float64"
      ]
     },
     "execution_count": 44,
     "metadata": {},
     "output_type": "execute_result"
    }
   ],
   "source": [
    "df['dx'].value_counts() / df.shape[0] * 100"
   ]
  },
  {
   "cell_type": "code",
   "execution_count": 45,
   "id": "e0a923a5-bf3b-44d3-b83e-7ae54044d0e3",
   "metadata": {},
   "outputs": [
    {
     "data": {
      "text/plain": [
       "count    261.000000\n",
       "mean      26.287356\n",
       "std        4.109767\n",
       "min       13.000000\n",
       "25%       24.000000\n",
       "50%       27.000000\n",
       "75%       30.000000\n",
       "max       30.000000\n",
       "Name: mmse, dtype: float64"
      ]
     },
     "execution_count": 45,
     "metadata": {},
     "output_type": "execute_result"
    }
   ],
   "source": [
    "df['mmse'].describe()"
   ]
  },
  {
   "cell_type": "code",
   "execution_count": 46,
   "id": "7e25c0be-fc68-4879-82a1-1ec1e7f4c06d",
   "metadata": {},
   "outputs": [
    {
     "data": {
      "text/plain": [
       "count    132.000000\n",
       "mean      23.704545\n",
       "std        4.272652\n",
       "min       13.000000\n",
       "25%       20.000000\n",
       "50%       24.500000\n",
       "75%       27.000000\n",
       "max       30.000000\n",
       "Name: mmse, dtype: float64"
      ]
     },
     "execution_count": 46,
     "metadata": {},
     "output_type": "execute_result"
    }
   ],
   "source": [
    "df[df['dx_binary']==1]['mmse'].describe()"
   ]
  },
  {
   "cell_type": "code",
   "execution_count": 48,
   "id": "9611847a-da49-40a5-af74-6a6f114fd9f2",
   "metadata": {},
   "outputs": [
    {
     "data": {
      "text/plain": [
       "count    129.000000\n",
       "mean      28.930233\n",
       "std        1.306152\n",
       "min       25.000000\n",
       "25%       28.000000\n",
       "50%       29.000000\n",
       "75%       30.000000\n",
       "max       30.000000\n",
       "Name: mmse, dtype: float64"
      ]
     },
     "execution_count": 48,
     "metadata": {},
     "output_type": "execute_result"
    }
   ],
   "source": [
    "df[df['dx_binary']==0]['mmse'].describe()"
   ]
  },
  {
   "cell_type": "code",
   "execution_count": 49,
   "id": "8aa20b5f-ae3b-4bf5-b5d0-e9c0a0386e44",
   "metadata": {},
   "outputs": [
    {
     "data": {
      "text/plain": [
       "0"
      ]
     },
     "execution_count": 49,
     "metadata": {},
     "output_type": "execute_result"
    }
   ],
   "source": [
    "df['mmse'].isna().sum()"
   ]
  },
  {
   "cell_type": "code",
   "execution_count": null,
   "id": "a868c98a-6702-4d70-bee5-b38d3416001e",
   "metadata": {},
   "outputs": [],
   "source": []
  }
 ],
 "metadata": {
  "kernelspec": {
   "display_name": "Python 3 (ipykernel)",
   "language": "python",
   "name": "python3"
  },
  "language_info": {
   "codemirror_mode": {
    "name": "ipython",
    "version": 3
   },
   "file_extension": ".py",
   "mimetype": "text/x-python",
   "name": "python",
   "nbconvert_exporter": "python",
   "pygments_lexer": "ipython3",
   "version": "3.9.21"
  }
 },
 "nbformat": 4,
 "nbformat_minor": 5
}
