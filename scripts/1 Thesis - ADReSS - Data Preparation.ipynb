{
 "cells": [
  {
   "cell_type": "markdown",
   "id": "4f5670ce-1d54-427b-8e87-54a3f2eac2a9",
   "metadata": {},
   "source": [
    "# ADReSS Dataset\n",
    "\n",
    "By Jimuel Celeste, Jr. \n",
    "\n",
    "Objective: To prepare a clean metadata for the ADReSS Dataset.\n"
   ]
  },
  {
   "cell_type": "code",
   "execution_count": 1,
   "id": "a99c6e32-2c58-4714-a82b-013bb46be764",
   "metadata": {},
   "outputs": [],
   "source": [
    "import os \n",
    "import pandas as pd"
   ]
  },
  {
   "cell_type": "markdown",
   "id": "1c44a6e1-c4ee-44e1-9a3c-cfef7bb6761b",
   "metadata": {},
   "source": [
    "## Train"
   ]
  },
  {
   "cell_type": "code",
   "execution_count": 2,
   "id": "561f5e04-50f5-41df-a68e-d5d2a93720a2",
   "metadata": {},
   "outputs": [
    {
     "data": {
      "text/html": [
       "<div>\n",
       "<style scoped>\n",
       "    .dataframe tbody tr th:only-of-type {\n",
       "        vertical-align: middle;\n",
       "    }\n",
       "\n",
       "    .dataframe tbody tr th {\n",
       "        vertical-align: top;\n",
       "    }\n",
       "\n",
       "    .dataframe thead th {\n",
       "        text-align: right;\n",
       "    }\n",
       "</style>\n",
       "<table border=\"1\" class=\"dataframe\">\n",
       "  <thead>\n",
       "    <tr style=\"text-align: right;\">\n",
       "      <th></th>\n",
       "      <th>ID</th>\n",
       "      <th>age</th>\n",
       "      <th>gender</th>\n",
       "      <th>mmse</th>\n",
       "      <th>dx</th>\n",
       "    </tr>\n",
       "  </thead>\n",
       "  <tbody>\n",
       "    <tr>\n",
       "      <th>0</th>\n",
       "      <td>S079</td>\n",
       "      <td>59</td>\n",
       "      <td>male</td>\n",
       "      <td>11</td>\n",
       "      <td>AD</td>\n",
       "    </tr>\n",
       "    <tr>\n",
       "      <th>1</th>\n",
       "      <td>S080</td>\n",
       "      <td>55</td>\n",
       "      <td>male</td>\n",
       "      <td>19</td>\n",
       "      <td>AD</td>\n",
       "    </tr>\n",
       "    <tr>\n",
       "      <th>2</th>\n",
       "      <td>S081</td>\n",
       "      <td>69</td>\n",
       "      <td>male</td>\n",
       "      <td>19</td>\n",
       "      <td>AD</td>\n",
       "    </tr>\n",
       "    <tr>\n",
       "      <th>3</th>\n",
       "      <td>S082</td>\n",
       "      <td>66</td>\n",
       "      <td>male</td>\n",
       "      <td>11</td>\n",
       "      <td>AD</td>\n",
       "    </tr>\n",
       "    <tr>\n",
       "      <th>4</th>\n",
       "      <td>S083</td>\n",
       "      <td>52</td>\n",
       "      <td>male</td>\n",
       "      <td>30</td>\n",
       "      <td>AD</td>\n",
       "    </tr>\n",
       "  </tbody>\n",
       "</table>\n",
       "</div>"
      ],
      "text/plain": [
       "   ID      age  gender   mmse  dx\n",
       "0  S079     59    male     11  AD\n",
       "1  S080     55    male     19  AD\n",
       "2  S081     69    male     19  AD\n",
       "3  S082     66    male     11  AD\n",
       "4  S083     52    male     30  AD"
      ]
     },
     "execution_count": 2,
     "metadata": {},
     "output_type": "execute_result"
    }
   ],
   "source": [
    "train1 = '/Users/jimuelcelestejr/Downloads/Dataset/ADReSS/archive/ADReSS-IS2020-data_train/cd_meta_data_train.txt'\n",
    "train1_df = pd.read_csv(train1, sep=';')\n",
    "train1_df['dx'] = 'AD'\n",
    "train1_df.head()"
   ]
  },
  {
   "cell_type": "code",
   "execution_count": 3,
   "id": "3792454e-f8a7-4be7-ac24-f73e51f40fcc",
   "metadata": {},
   "outputs": [
    {
     "data": {
      "text/html": [
       "<div>\n",
       "<style scoped>\n",
       "    .dataframe tbody tr th:only-of-type {\n",
       "        vertical-align: middle;\n",
       "    }\n",
       "\n",
       "    .dataframe tbody tr th {\n",
       "        vertical-align: top;\n",
       "    }\n",
       "\n",
       "    .dataframe thead th {\n",
       "        text-align: right;\n",
       "    }\n",
       "</style>\n",
       "<table border=\"1\" class=\"dataframe\">\n",
       "  <thead>\n",
       "    <tr style=\"text-align: right;\">\n",
       "      <th></th>\n",
       "      <th>ID</th>\n",
       "      <th>age</th>\n",
       "      <th>gender</th>\n",
       "      <th>mmse</th>\n",
       "      <th>dx</th>\n",
       "    </tr>\n",
       "  </thead>\n",
       "  <tbody>\n",
       "    <tr>\n",
       "      <th>0</th>\n",
       "      <td>S001</td>\n",
       "      <td>74</td>\n",
       "      <td>male</td>\n",
       "      <td>NA</td>\n",
       "      <td>NC</td>\n",
       "    </tr>\n",
       "    <tr>\n",
       "      <th>1</th>\n",
       "      <td>S002</td>\n",
       "      <td>62</td>\n",
       "      <td>female</td>\n",
       "      <td>30</td>\n",
       "      <td>NC</td>\n",
       "    </tr>\n",
       "    <tr>\n",
       "      <th>2</th>\n",
       "      <td>S003</td>\n",
       "      <td>69</td>\n",
       "      <td>female</td>\n",
       "      <td>29</td>\n",
       "      <td>NC</td>\n",
       "    </tr>\n",
       "    <tr>\n",
       "      <th>3</th>\n",
       "      <td>S004</td>\n",
       "      <td>71</td>\n",
       "      <td>female</td>\n",
       "      <td>30</td>\n",
       "      <td>NC</td>\n",
       "    </tr>\n",
       "    <tr>\n",
       "      <th>4</th>\n",
       "      <td>S005</td>\n",
       "      <td>74</td>\n",
       "      <td>female</td>\n",
       "      <td>30</td>\n",
       "      <td>NC</td>\n",
       "    </tr>\n",
       "  </tbody>\n",
       "</table>\n",
       "</div>"
      ],
      "text/plain": [
       "   ID      age   gender  mmse  dx\n",
       "0  S001     74     male    NA  NC\n",
       "1  S002     62   female    30  NC\n",
       "2  S003     69   female    29  NC\n",
       "3  S004     71   female    30  NC\n",
       "4  S005     74   female    30  NC"
      ]
     },
     "execution_count": 3,
     "metadata": {},
     "output_type": "execute_result"
    }
   ],
   "source": [
    "train2 = '/Users/jimuelcelestejr/Downloads/Dataset/ADReSS/archive/ADReSS-IS2020-data_train/cc_meta_data_train.txt'\n",
    "train2_df = pd.read_csv(train2, sep=';')\n",
    "train2_df['dx'] = 'NC'\n",
    "train2_df.head()"
   ]
  },
  {
   "cell_type": "code",
   "execution_count": 4,
   "id": "65babaf6-fef6-472b-97b6-26c80d2eaa91",
   "metadata": {},
   "outputs": [
    {
     "data": {
      "text/html": [
       "<div>\n",
       "<style scoped>\n",
       "    .dataframe tbody tr th:only-of-type {\n",
       "        vertical-align: middle;\n",
       "    }\n",
       "\n",
       "    .dataframe tbody tr th {\n",
       "        vertical-align: top;\n",
       "    }\n",
       "\n",
       "    .dataframe thead th {\n",
       "        text-align: right;\n",
       "    }\n",
       "</style>\n",
       "<table border=\"1\" class=\"dataframe\">\n",
       "  <thead>\n",
       "    <tr style=\"text-align: right;\">\n",
       "      <th></th>\n",
       "      <th>ID</th>\n",
       "      <th>age</th>\n",
       "      <th>gender</th>\n",
       "      <th>mmse</th>\n",
       "      <th>dx</th>\n",
       "    </tr>\n",
       "  </thead>\n",
       "  <tbody>\n",
       "    <tr>\n",
       "      <th>0</th>\n",
       "      <td>S079</td>\n",
       "      <td>59</td>\n",
       "      <td>male</td>\n",
       "      <td>11</td>\n",
       "      <td>AD</td>\n",
       "    </tr>\n",
       "    <tr>\n",
       "      <th>1</th>\n",
       "      <td>S080</td>\n",
       "      <td>55</td>\n",
       "      <td>male</td>\n",
       "      <td>19</td>\n",
       "      <td>AD</td>\n",
       "    </tr>\n",
       "    <tr>\n",
       "      <th>2</th>\n",
       "      <td>S081</td>\n",
       "      <td>69</td>\n",
       "      <td>male</td>\n",
       "      <td>19</td>\n",
       "      <td>AD</td>\n",
       "    </tr>\n",
       "    <tr>\n",
       "      <th>3</th>\n",
       "      <td>S082</td>\n",
       "      <td>66</td>\n",
       "      <td>male</td>\n",
       "      <td>11</td>\n",
       "      <td>AD</td>\n",
       "    </tr>\n",
       "    <tr>\n",
       "      <th>4</th>\n",
       "      <td>S083</td>\n",
       "      <td>52</td>\n",
       "      <td>male</td>\n",
       "      <td>30</td>\n",
       "      <td>AD</td>\n",
       "    </tr>\n",
       "    <tr>\n",
       "      <th>...</th>\n",
       "      <td>...</td>\n",
       "      <td>...</td>\n",
       "      <td>...</td>\n",
       "      <td>...</td>\n",
       "      <td>...</td>\n",
       "    </tr>\n",
       "    <tr>\n",
       "      <th>49</th>\n",
       "      <td>S071</td>\n",
       "      <td>74</td>\n",
       "      <td>male</td>\n",
       "      <td>29</td>\n",
       "      <td>NC</td>\n",
       "    </tr>\n",
       "    <tr>\n",
       "      <th>50</th>\n",
       "      <td>S072</td>\n",
       "      <td>75</td>\n",
       "      <td>male</td>\n",
       "      <td>29</td>\n",
       "      <td>NC</td>\n",
       "    </tr>\n",
       "    <tr>\n",
       "      <th>51</th>\n",
       "      <td>S073</td>\n",
       "      <td>61</td>\n",
       "      <td>male</td>\n",
       "      <td>29</td>\n",
       "      <td>NC</td>\n",
       "    </tr>\n",
       "    <tr>\n",
       "      <th>52</th>\n",
       "      <td>S076</td>\n",
       "      <td>78</td>\n",
       "      <td>female</td>\n",
       "      <td>28</td>\n",
       "      <td>NC</td>\n",
       "    </tr>\n",
       "    <tr>\n",
       "      <th>53</th>\n",
       "      <td>S077</td>\n",
       "      <td>77</td>\n",
       "      <td>female</td>\n",
       "      <td>29</td>\n",
       "      <td>NC</td>\n",
       "    </tr>\n",
       "  </tbody>\n",
       "</table>\n",
       "<p>108 rows × 5 columns</p>\n",
       "</div>"
      ],
      "text/plain": [
       "    ID      age   gender  mmse  dx\n",
       "0   S079     59     male    11  AD\n",
       "1   S080     55     male    19  AD\n",
       "2   S081     69     male    19  AD\n",
       "3   S082     66     male    11  AD\n",
       "4   S083     52     male    30  AD\n",
       "..    ...   ...       ...  ...  ..\n",
       "49  S071     74     male    29  NC\n",
       "50  S072     75     male    29  NC\n",
       "51  S073     61     male    29  NC\n",
       "52  S076     78   female    28  NC\n",
       "53  S077     77   female    29  NC\n",
       "\n",
       "[108 rows x 5 columns]"
      ]
     },
     "execution_count": 4,
     "metadata": {},
     "output_type": "execute_result"
    }
   ],
   "source": [
    "train_df = pd.concat([train1_df, train2_df])\n",
    "train_df"
   ]
  },
  {
   "cell_type": "code",
   "execution_count": 5,
   "id": "f7f1a2e5-d18a-460b-bc9c-d8f893af3e7e",
   "metadata": {},
   "outputs": [
    {
     "data": {
      "text/plain": [
       "((108, 5), 108)"
      ]
     },
     "execution_count": 5,
     "metadata": {},
     "output_type": "execute_result"
    }
   ],
   "source": [
    "train_df.shape, train1_df.shape[0] + train2_df.shape[0]"
   ]
  },
  {
   "cell_type": "code",
   "execution_count": 6,
   "id": "1b6d89be-463b-42c9-84bf-d65785b7877a",
   "metadata": {},
   "outputs": [
    {
     "data": {
      "text/plain": [
       "Index(['ID   ', ' age', ' gender ', 'mmse', 'dx'], dtype='object')"
      ]
     },
     "execution_count": 6,
     "metadata": {},
     "output_type": "execute_result"
    }
   ],
   "source": [
    "train_df.columns"
   ]
  },
  {
   "cell_type": "code",
   "execution_count": 7,
   "id": "2586b676-f5ed-4e56-80d8-f3049bed5e06",
   "metadata": {},
   "outputs": [
    {
     "data": {
      "text/plain": [
       "Index(['ID', 'age', 'gender', 'mmse', 'dx'], dtype='object')"
      ]
     },
     "execution_count": 7,
     "metadata": {},
     "output_type": "execute_result"
    }
   ],
   "source": [
    "for column in train_df.columns:\n",
    "    train_df = train_df.rename(columns={column: column.strip()})\n",
    "train_df.columns"
   ]
  },
  {
   "cell_type": "code",
   "execution_count": 8,
   "id": "46b12166-6770-4782-807c-bc202dcadc98",
   "metadata": {},
   "outputs": [],
   "source": [
    "for column in train_df.columns: \n",
    "    train_df[column] = train_df[column].apply(lambda x: x.strip() if type(x) == str else x)"
   ]
  },
  {
   "cell_type": "code",
   "execution_count": 9,
   "id": "24d904a2-3cd9-4c36-a4bb-4c0e211ac6a3",
   "metadata": {},
   "outputs": [
    {
     "data": {
      "text/html": [
       "<div>\n",
       "<style scoped>\n",
       "    .dataframe tbody tr th:only-of-type {\n",
       "        vertical-align: middle;\n",
       "    }\n",
       "\n",
       "    .dataframe tbody tr th {\n",
       "        vertical-align: top;\n",
       "    }\n",
       "\n",
       "    .dataframe thead th {\n",
       "        text-align: right;\n",
       "    }\n",
       "</style>\n",
       "<table border=\"1\" class=\"dataframe\">\n",
       "  <thead>\n",
       "    <tr style=\"text-align: right;\">\n",
       "      <th></th>\n",
       "      <th>filename</th>\n",
       "      <th>record_id</th>\n",
       "      <th>subject_id</th>\n",
       "      <th>age</th>\n",
       "      <th>sex</th>\n",
       "      <th>mmse</th>\n",
       "      <th>dx</th>\n",
       "      <th>dx_binary</th>\n",
       "    </tr>\n",
       "  </thead>\n",
       "  <tbody>\n",
       "    <tr>\n",
       "      <th>0</th>\n",
       "      <td>S079.wav</td>\n",
       "      <td>S079</td>\n",
       "      <td>S079</td>\n",
       "      <td>59</td>\n",
       "      <td>M</td>\n",
       "      <td>11</td>\n",
       "      <td>AD</td>\n",
       "      <td>1</td>\n",
       "    </tr>\n",
       "    <tr>\n",
       "      <th>1</th>\n",
       "      <td>S080.wav</td>\n",
       "      <td>S080</td>\n",
       "      <td>S080</td>\n",
       "      <td>55</td>\n",
       "      <td>M</td>\n",
       "      <td>19</td>\n",
       "      <td>AD</td>\n",
       "      <td>1</td>\n",
       "    </tr>\n",
       "    <tr>\n",
       "      <th>2</th>\n",
       "      <td>S081.wav</td>\n",
       "      <td>S081</td>\n",
       "      <td>S081</td>\n",
       "      <td>69</td>\n",
       "      <td>M</td>\n",
       "      <td>19</td>\n",
       "      <td>AD</td>\n",
       "      <td>1</td>\n",
       "    </tr>\n",
       "    <tr>\n",
       "      <th>3</th>\n",
       "      <td>S082.wav</td>\n",
       "      <td>S082</td>\n",
       "      <td>S082</td>\n",
       "      <td>66</td>\n",
       "      <td>M</td>\n",
       "      <td>11</td>\n",
       "      <td>AD</td>\n",
       "      <td>1</td>\n",
       "    </tr>\n",
       "    <tr>\n",
       "      <th>4</th>\n",
       "      <td>S083.wav</td>\n",
       "      <td>S083</td>\n",
       "      <td>S083</td>\n",
       "      <td>52</td>\n",
       "      <td>M</td>\n",
       "      <td>30</td>\n",
       "      <td>AD</td>\n",
       "      <td>1</td>\n",
       "    </tr>\n",
       "    <tr>\n",
       "      <th>...</th>\n",
       "      <td>...</td>\n",
       "      <td>...</td>\n",
       "      <td>...</td>\n",
       "      <td>...</td>\n",
       "      <td>...</td>\n",
       "      <td>...</td>\n",
       "      <td>...</td>\n",
       "      <td>...</td>\n",
       "    </tr>\n",
       "    <tr>\n",
       "      <th>103</th>\n",
       "      <td>S071.wav</td>\n",
       "      <td>S071</td>\n",
       "      <td>S071</td>\n",
       "      <td>74</td>\n",
       "      <td>M</td>\n",
       "      <td>29</td>\n",
       "      <td>NC</td>\n",
       "      <td>0</td>\n",
       "    </tr>\n",
       "    <tr>\n",
       "      <th>104</th>\n",
       "      <td>S072.wav</td>\n",
       "      <td>S072</td>\n",
       "      <td>S072</td>\n",
       "      <td>75</td>\n",
       "      <td>M</td>\n",
       "      <td>29</td>\n",
       "      <td>NC</td>\n",
       "      <td>0</td>\n",
       "    </tr>\n",
       "    <tr>\n",
       "      <th>105</th>\n",
       "      <td>S073.wav</td>\n",
       "      <td>S073</td>\n",
       "      <td>S073</td>\n",
       "      <td>61</td>\n",
       "      <td>M</td>\n",
       "      <td>29</td>\n",
       "      <td>NC</td>\n",
       "      <td>0</td>\n",
       "    </tr>\n",
       "    <tr>\n",
       "      <th>106</th>\n",
       "      <td>S076.wav</td>\n",
       "      <td>S076</td>\n",
       "      <td>S076</td>\n",
       "      <td>78</td>\n",
       "      <td>F</td>\n",
       "      <td>28</td>\n",
       "      <td>NC</td>\n",
       "      <td>0</td>\n",
       "    </tr>\n",
       "    <tr>\n",
       "      <th>107</th>\n",
       "      <td>S077.wav</td>\n",
       "      <td>S077</td>\n",
       "      <td>S077</td>\n",
       "      <td>77</td>\n",
       "      <td>F</td>\n",
       "      <td>29</td>\n",
       "      <td>NC</td>\n",
       "      <td>0</td>\n",
       "    </tr>\n",
       "  </tbody>\n",
       "</table>\n",
       "<p>108 rows × 8 columns</p>\n",
       "</div>"
      ],
      "text/plain": [
       "     filename record_id subject_id  age sex mmse  dx  dx_binary\n",
       "0    S079.wav      S079       S079   59   M   11  AD          1\n",
       "1    S080.wav      S080       S080   55   M   19  AD          1\n",
       "2    S081.wav      S081       S081   69   M   19  AD          1\n",
       "3    S082.wav      S082       S082   66   M   11  AD          1\n",
       "4    S083.wav      S083       S083   52   M   30  AD          1\n",
       "..        ...       ...        ...  ...  ..  ...  ..        ...\n",
       "103  S071.wav      S071       S071   74   M   29  NC          0\n",
       "104  S072.wav      S072       S072   75   M   29  NC          0\n",
       "105  S073.wav      S073       S073   61   M   29  NC          0\n",
       "106  S076.wav      S076       S076   78   F   28  NC          0\n",
       "107  S077.wav      S077       S077   77   F   29  NC          0\n",
       "\n",
       "[108 rows x 8 columns]"
      ]
     },
     "execution_count": 9,
     "metadata": {},
     "output_type": "execute_result"
    }
   ],
   "source": [
    "train_df = train_df.rename(columns={\n",
    "    'ID': 'record_id', \n",
    "    'gender': 'sex'\n",
    "})\n",
    "train_df['dx_binary'] = train_df['dx'].apply(lambda x: 1 if x == 'AD' else 0)\n",
    "train_df['subject_id'] = train_df['record_id']\n",
    "train_df['filename'] = train_df['record_id'].apply(lambda x: x + '.wav')\n",
    "train_df['sex'] = train_df['sex'].apply(lambda x: 'M' if x == 'male' else 'F')\n",
    "train_df = train_df[[\n",
    "    'filename', \n",
    "    'record_id', \n",
    "    'subject_id', \n",
    "    'age', \n",
    "    'sex', \n",
    "    'mmse', \n",
    "    'dx', \n",
    "    'dx_binary'\n",
    "]].reset_index(drop=True)\n",
    "train_df"
   ]
  },
  {
   "cell_type": "markdown",
   "id": "0e47fb14-99c5-4fec-ae79-0b3399dcf6e6",
   "metadata": {},
   "source": [
    "## Test"
   ]
  },
  {
   "cell_type": "code",
   "execution_count": 10,
   "id": "0e3edde7-d8fe-4f5b-bc2f-d45f9440184a",
   "metadata": {},
   "outputs": [
    {
     "data": {
      "text/html": [
       "<div>\n",
       "<style scoped>\n",
       "    .dataframe tbody tr th:only-of-type {\n",
       "        vertical-align: middle;\n",
       "    }\n",
       "\n",
       "    .dataframe tbody tr th {\n",
       "        vertical-align: top;\n",
       "    }\n",
       "\n",
       "    .dataframe thead th {\n",
       "        text-align: right;\n",
       "    }\n",
       "</style>\n",
       "<table border=\"1\" class=\"dataframe\">\n",
       "  <thead>\n",
       "    <tr style=\"text-align: right;\">\n",
       "      <th></th>\n",
       "      <th>ID</th>\n",
       "      <th>age</th>\n",
       "      <th>gender</th>\n",
       "      <th>Label</th>\n",
       "      <th>mmse</th>\n",
       "    </tr>\n",
       "  </thead>\n",
       "  <tbody>\n",
       "    <tr>\n",
       "      <th>0</th>\n",
       "      <td>S160</td>\n",
       "      <td>63</td>\n",
       "      <td>1</td>\n",
       "      <td>0</td>\n",
       "      <td>28</td>\n",
       "    </tr>\n",
       "    <tr>\n",
       "      <th>1</th>\n",
       "      <td>S161</td>\n",
       "      <td>55</td>\n",
       "      <td>1</td>\n",
       "      <td>0</td>\n",
       "      <td>29</td>\n",
       "    </tr>\n",
       "    <tr>\n",
       "      <th>2</th>\n",
       "      <td>S162</td>\n",
       "      <td>67</td>\n",
       "      <td>1</td>\n",
       "      <td>1</td>\n",
       "      <td>24</td>\n",
       "    </tr>\n",
       "    <tr>\n",
       "      <th>3</th>\n",
       "      <td>S163</td>\n",
       "      <td>71</td>\n",
       "      <td>0</td>\n",
       "      <td>0</td>\n",
       "      <td>30</td>\n",
       "    </tr>\n",
       "    <tr>\n",
       "      <th>4</th>\n",
       "      <td>S164</td>\n",
       "      <td>73</td>\n",
       "      <td>1</td>\n",
       "      <td>1</td>\n",
       "      <td>21</td>\n",
       "    </tr>\n",
       "  </tbody>\n",
       "</table>\n",
       "</div>"
      ],
      "text/plain": [
       "   ID      age   gender  Label   mmse\n",
       "0  S160     63        1       0    28\n",
       "1  S161     55        1       0    29\n",
       "2  S162     67        1       1    24\n",
       "3  S163     71        0       0    30\n",
       "4  S164     73        1       1    21"
      ]
     },
     "execution_count": 10,
     "metadata": {},
     "output_type": "execute_result"
    }
   ],
   "source": [
    "test = '/Users/jimuelcelestejr/Downloads/Dataset/ADReSS/archive/ADReSS-IS2020-data 2_test/ADReSS-meta_data_test.txt'\n",
    "test_df = pd.read_csv(test, sep=';')\n",
    "test_df.head()"
   ]
  },
  {
   "cell_type": "code",
   "execution_count": 11,
   "id": "fbd842e9-f8ca-433a-97be-e370652c66a6",
   "metadata": {},
   "outputs": [
    {
     "data": {
      "text/plain": [
       "Index(['ID   ', ' age', ' gender', 'Label ', 'mmse'], dtype='object')"
      ]
     },
     "execution_count": 11,
     "metadata": {},
     "output_type": "execute_result"
    }
   ],
   "source": [
    "test_df.columns"
   ]
  },
  {
   "cell_type": "code",
   "execution_count": 12,
   "id": "2c9b8e8b-0f81-41f7-a6ac-a73c12150612",
   "metadata": {},
   "outputs": [
    {
     "data": {
      "text/plain": [
       "Index(['ID', 'age', 'gender', 'Label', 'mmse'], dtype='object')"
      ]
     },
     "execution_count": 12,
     "metadata": {},
     "output_type": "execute_result"
    }
   ],
   "source": [
    "for column in test_df.columns:\n",
    "    test_df = test_df.rename(columns={column: column.strip()})\n",
    "test_df.columns"
   ]
  },
  {
   "cell_type": "code",
   "execution_count": 13,
   "id": "bf8e51f6-935c-4f5c-82cb-25b1437d0ffd",
   "metadata": {},
   "outputs": [],
   "source": [
    "for column in test_df.columns: \n",
    "    test_df[column] = test_df[column].apply(lambda x: x.strip() if type(x) == str else x)"
   ]
  },
  {
   "cell_type": "code",
   "execution_count": 14,
   "id": "165f8af1-5d95-47d6-825e-05980648a7b2",
   "metadata": {},
   "outputs": [
    {
     "data": {
      "text/html": [
       "<div>\n",
       "<style scoped>\n",
       "    .dataframe tbody tr th:only-of-type {\n",
       "        vertical-align: middle;\n",
       "    }\n",
       "\n",
       "    .dataframe tbody tr th {\n",
       "        vertical-align: top;\n",
       "    }\n",
       "\n",
       "    .dataframe thead th {\n",
       "        text-align: right;\n",
       "    }\n",
       "</style>\n",
       "<table border=\"1\" class=\"dataframe\">\n",
       "  <thead>\n",
       "    <tr style=\"text-align: right;\">\n",
       "      <th></th>\n",
       "      <th>ID</th>\n",
       "      <th>age</th>\n",
       "      <th>gender</th>\n",
       "    </tr>\n",
       "  </thead>\n",
       "  <tbody>\n",
       "    <tr>\n",
       "      <th>0</th>\n",
       "      <td>S160</td>\n",
       "      <td>63</td>\n",
       "      <td>female</td>\n",
       "    </tr>\n",
       "    <tr>\n",
       "      <th>1</th>\n",
       "      <td>S161</td>\n",
       "      <td>55</td>\n",
       "      <td>female</td>\n",
       "    </tr>\n",
       "    <tr>\n",
       "      <th>2</th>\n",
       "      <td>S162</td>\n",
       "      <td>67</td>\n",
       "      <td>female</td>\n",
       "    </tr>\n",
       "    <tr>\n",
       "      <th>3</th>\n",
       "      <td>S163</td>\n",
       "      <td>71</td>\n",
       "      <td>male</td>\n",
       "    </tr>\n",
       "    <tr>\n",
       "      <th>4</th>\n",
       "      <td>S164</td>\n",
       "      <td>73</td>\n",
       "      <td>female</td>\n",
       "    </tr>\n",
       "  </tbody>\n",
       "</table>\n",
       "</div>"
      ],
      "text/plain": [
       "     ID    age    gender\n",
       "0  S160      63   female\n",
       "1  S161      55   female\n",
       "2  S162      67   female\n",
       "3  S163      71     male\n",
       "4  S164      73   female"
      ]
     },
     "execution_count": 14,
     "metadata": {},
     "output_type": "execute_result"
    }
   ],
   "source": [
    "test_metadata = '/Users/jimuelcelestejr/Downloads/Dataset/ADReSS/archive/ADReSS-IS2020-data 2_test/meta_data_test.txt'\n",
    "test_metadata_df = pd.read_csv(test_metadata, sep=';')\n",
    "test_metadata_df.head()"
   ]
  },
  {
   "cell_type": "code",
   "execution_count": 15,
   "id": "8b611d3f-2811-4577-ab43-4de61b025099",
   "metadata": {},
   "outputs": [
    {
     "data": {
      "text/plain": [
       "Index(['ID ', ' age ', ' gender'], dtype='object')"
      ]
     },
     "execution_count": 15,
     "metadata": {},
     "output_type": "execute_result"
    }
   ],
   "source": [
    "test_metadata_df.columns"
   ]
  },
  {
   "cell_type": "code",
   "execution_count": 16,
   "id": "5c4c2f90-6989-45ed-8e90-f2a865d44977",
   "metadata": {},
   "outputs": [
    {
     "data": {
      "text/plain": [
       "Index(['ID', 'age', 'gender'], dtype='object')"
      ]
     },
     "execution_count": 16,
     "metadata": {},
     "output_type": "execute_result"
    }
   ],
   "source": [
    "for column in test_metadata_df.columns:\n",
    "    test_metadata_df = test_metadata_df.rename(columns={column: column.strip()})\n",
    "test_metadata_df.columns"
   ]
  },
  {
   "cell_type": "code",
   "execution_count": 17,
   "id": "53d8a4ef-dd67-420b-95b9-958829537bc0",
   "metadata": {},
   "outputs": [],
   "source": [
    "for column in test_metadata_df.columns: \n",
    "    test_metadata_df[column] = test_metadata_df[column].apply(lambda x: x.strip() if type(x) == str else x)"
   ]
  },
  {
   "cell_type": "code",
   "execution_count": 18,
   "id": "bd529571-2978-4726-8a19-b8b5657e8d7f",
   "metadata": {
    "scrolled": true
   },
   "outputs": [
    {
     "data": {
      "text/plain": [
       "set()"
      ]
     },
     "execution_count": 18,
     "metadata": {},
     "output_type": "execute_result"
    }
   ],
   "source": [
    "set(test_df['ID']) - set(test_metadata_df['ID'])"
   ]
  },
  {
   "cell_type": "code",
   "execution_count": 19,
   "id": "faccaf53-6159-4cb2-824b-1f61572e1cbf",
   "metadata": {},
   "outputs": [
    {
     "data": {
      "text/plain": [
       "set()"
      ]
     },
     "execution_count": 19,
     "metadata": {},
     "output_type": "execute_result"
    }
   ],
   "source": [
    "set(test_metadata_df['ID']) - set(test_df['ID'])"
   ]
  },
  {
   "cell_type": "code",
   "execution_count": 20,
   "id": "c0067f56-178f-4850-9d4d-b278c6e58876",
   "metadata": {},
   "outputs": [
    {
     "data": {
      "text/plain": [
       "True"
      ]
     },
     "execution_count": 20,
     "metadata": {},
     "output_type": "execute_result"
    }
   ],
   "source": [
    "set(test_metadata_df['ID']) == set(test_df['ID'])"
   ]
  },
  {
   "cell_type": "markdown",
   "id": "dd851982-ce17-4c08-a67b-88b8f0e32afe",
   "metadata": {},
   "source": [
    "Same; I'll only use test_df."
   ]
  },
  {
   "cell_type": "code",
   "execution_count": 21,
   "id": "d653d736-a5ff-40fe-8d6c-86a0e4c92fa6",
   "metadata": {},
   "outputs": [
    {
     "data": {
      "text/html": [
       "<div>\n",
       "<style scoped>\n",
       "    .dataframe tbody tr th:only-of-type {\n",
       "        vertical-align: middle;\n",
       "    }\n",
       "\n",
       "    .dataframe tbody tr th {\n",
       "        vertical-align: top;\n",
       "    }\n",
       "\n",
       "    .dataframe thead th {\n",
       "        text-align: right;\n",
       "    }\n",
       "</style>\n",
       "<table border=\"1\" class=\"dataframe\">\n",
       "  <thead>\n",
       "    <tr style=\"text-align: right;\">\n",
       "      <th></th>\n",
       "      <th>ID</th>\n",
       "      <th>age</th>\n",
       "      <th>gender</th>\n",
       "      <th>Label</th>\n",
       "      <th>mmse</th>\n",
       "    </tr>\n",
       "  </thead>\n",
       "  <tbody>\n",
       "    <tr>\n",
       "      <th>0</th>\n",
       "      <td>S160</td>\n",
       "      <td>63</td>\n",
       "      <td>1</td>\n",
       "      <td>0</td>\n",
       "      <td>28</td>\n",
       "    </tr>\n",
       "    <tr>\n",
       "      <th>1</th>\n",
       "      <td>S161</td>\n",
       "      <td>55</td>\n",
       "      <td>1</td>\n",
       "      <td>0</td>\n",
       "      <td>29</td>\n",
       "    </tr>\n",
       "    <tr>\n",
       "      <th>2</th>\n",
       "      <td>S162</td>\n",
       "      <td>67</td>\n",
       "      <td>1</td>\n",
       "      <td>1</td>\n",
       "      <td>24</td>\n",
       "    </tr>\n",
       "    <tr>\n",
       "      <th>3</th>\n",
       "      <td>S163</td>\n",
       "      <td>71</td>\n",
       "      <td>0</td>\n",
       "      <td>0</td>\n",
       "      <td>30</td>\n",
       "    </tr>\n",
       "    <tr>\n",
       "      <th>4</th>\n",
       "      <td>S164</td>\n",
       "      <td>73</td>\n",
       "      <td>1</td>\n",
       "      <td>1</td>\n",
       "      <td>21</td>\n",
       "    </tr>\n",
       "  </tbody>\n",
       "</table>\n",
       "</div>"
      ],
      "text/plain": [
       "     ID  age  gender  Label  mmse\n",
       "0  S160   63       1      0    28\n",
       "1  S161   55       1      0    29\n",
       "2  S162   67       1      1    24\n",
       "3  S163   71       0      0    30\n",
       "4  S164   73       1      1    21"
      ]
     },
     "execution_count": 21,
     "metadata": {},
     "output_type": "execute_result"
    }
   ],
   "source": [
    "test_df.head()"
   ]
  },
  {
   "cell_type": "code",
   "execution_count": 22,
   "id": "4655b611-5195-458e-8709-1c7eaf739ccf",
   "metadata": {},
   "outputs": [
    {
     "data": {
      "text/html": [
       "<div>\n",
       "<style scoped>\n",
       "    .dataframe tbody tr th:only-of-type {\n",
       "        vertical-align: middle;\n",
       "    }\n",
       "\n",
       "    .dataframe tbody tr th {\n",
       "        vertical-align: top;\n",
       "    }\n",
       "\n",
       "    .dataframe thead th {\n",
       "        text-align: right;\n",
       "    }\n",
       "</style>\n",
       "<table border=\"1\" class=\"dataframe\">\n",
       "  <thead>\n",
       "    <tr style=\"text-align: right;\">\n",
       "      <th></th>\n",
       "      <th>filename</th>\n",
       "      <th>record_id</th>\n",
       "      <th>subject_id</th>\n",
       "      <th>age</th>\n",
       "      <th>sex</th>\n",
       "      <th>mmse</th>\n",
       "      <th>dx</th>\n",
       "      <th>dx_binary</th>\n",
       "    </tr>\n",
       "  </thead>\n",
       "  <tbody>\n",
       "    <tr>\n",
       "      <th>0</th>\n",
       "      <td>S160.wav</td>\n",
       "      <td>S160</td>\n",
       "      <td>S160</td>\n",
       "      <td>63</td>\n",
       "      <td>F</td>\n",
       "      <td>28</td>\n",
       "      <td>NC</td>\n",
       "      <td>0</td>\n",
       "    </tr>\n",
       "    <tr>\n",
       "      <th>1</th>\n",
       "      <td>S161.wav</td>\n",
       "      <td>S161</td>\n",
       "      <td>S161</td>\n",
       "      <td>55</td>\n",
       "      <td>F</td>\n",
       "      <td>29</td>\n",
       "      <td>NC</td>\n",
       "      <td>0</td>\n",
       "    </tr>\n",
       "    <tr>\n",
       "      <th>2</th>\n",
       "      <td>S162.wav</td>\n",
       "      <td>S162</td>\n",
       "      <td>S162</td>\n",
       "      <td>67</td>\n",
       "      <td>F</td>\n",
       "      <td>24</td>\n",
       "      <td>AD</td>\n",
       "      <td>1</td>\n",
       "    </tr>\n",
       "    <tr>\n",
       "      <th>3</th>\n",
       "      <td>S163.wav</td>\n",
       "      <td>S163</td>\n",
       "      <td>S163</td>\n",
       "      <td>71</td>\n",
       "      <td>M</td>\n",
       "      <td>30</td>\n",
       "      <td>NC</td>\n",
       "      <td>0</td>\n",
       "    </tr>\n",
       "    <tr>\n",
       "      <th>4</th>\n",
       "      <td>S164.wav</td>\n",
       "      <td>S164</td>\n",
       "      <td>S164</td>\n",
       "      <td>73</td>\n",
       "      <td>F</td>\n",
       "      <td>21</td>\n",
       "      <td>AD</td>\n",
       "      <td>1</td>\n",
       "    </tr>\n",
       "  </tbody>\n",
       "</table>\n",
       "</div>"
      ],
      "text/plain": [
       "   filename record_id subject_id  age sex  mmse  dx  dx_binary\n",
       "0  S160.wav      S160       S160   63   F    28  NC          0\n",
       "1  S161.wav      S161       S161   55   F    29  NC          0\n",
       "2  S162.wav      S162       S162   67   F    24  AD          1\n",
       "3  S163.wav      S163       S163   71   M    30  NC          0\n",
       "4  S164.wav      S164       S164   73   F    21  AD          1"
      ]
     },
     "execution_count": 22,
     "metadata": {},
     "output_type": "execute_result"
    }
   ],
   "source": [
    "test_df = test_df.rename(columns={\n",
    "    'ID': 'record_id', \n",
    "    'gender': 'sex', \n",
    "    'Label': 'dx_binary'\n",
    "})\n",
    "test_df['dx'] = test_df['dx_binary'].apply(lambda x: 'AD' if x == 1 else 'NC')\n",
    "test_df['subject_id'] = test_df['record_id']\n",
    "test_df['filename'] = test_df['record_id'].apply(lambda x: x + '.wav')\n",
    "test_df['sex'] = test_df['sex'].apply(lambda x: 'F' if x == 1 else 'M')\n",
    "test_df = test_df[[\n",
    "    'filename', \n",
    "    'record_id', \n",
    "    'subject_id', \n",
    "    'age', \n",
    "    'sex', \n",
    "    'mmse', \n",
    "    'dx', \n",
    "    'dx_binary'\n",
    "]].reset_index(drop=True)\n",
    "test_df.head()"
   ]
  },
  {
   "cell_type": "markdown",
   "id": "135a4207-a92a-4578-afca-74db78abd955",
   "metadata": {},
   "source": [
    "## Merge: train + test"
   ]
  },
  {
   "cell_type": "code",
   "execution_count": 23,
   "id": "1def7264-a009-43d3-81b2-10ec7fa30cc3",
   "metadata": {},
   "outputs": [
    {
     "data": {
      "text/html": [
       "<div>\n",
       "<style scoped>\n",
       "    .dataframe tbody tr th:only-of-type {\n",
       "        vertical-align: middle;\n",
       "    }\n",
       "\n",
       "    .dataframe tbody tr th {\n",
       "        vertical-align: top;\n",
       "    }\n",
       "\n",
       "    .dataframe thead th {\n",
       "        text-align: right;\n",
       "    }\n",
       "</style>\n",
       "<table border=\"1\" class=\"dataframe\">\n",
       "  <thead>\n",
       "    <tr style=\"text-align: right;\">\n",
       "      <th></th>\n",
       "      <th>filename</th>\n",
       "      <th>record_id</th>\n",
       "      <th>subject_id</th>\n",
       "      <th>age</th>\n",
       "      <th>sex</th>\n",
       "      <th>mmse</th>\n",
       "      <th>dx</th>\n",
       "      <th>dx_binary</th>\n",
       "    </tr>\n",
       "  </thead>\n",
       "  <tbody>\n",
       "    <tr>\n",
       "      <th>0</th>\n",
       "      <td>S001.wav</td>\n",
       "      <td>S001</td>\n",
       "      <td>S001</td>\n",
       "      <td>74</td>\n",
       "      <td>M</td>\n",
       "      <td>NA</td>\n",
       "      <td>NC</td>\n",
       "      <td>0</td>\n",
       "    </tr>\n",
       "    <tr>\n",
       "      <th>1</th>\n",
       "      <td>S002.wav</td>\n",
       "      <td>S002</td>\n",
       "      <td>S002</td>\n",
       "      <td>62</td>\n",
       "      <td>F</td>\n",
       "      <td>30</td>\n",
       "      <td>NC</td>\n",
       "      <td>0</td>\n",
       "    </tr>\n",
       "    <tr>\n",
       "      <th>2</th>\n",
       "      <td>S003.wav</td>\n",
       "      <td>S003</td>\n",
       "      <td>S003</td>\n",
       "      <td>69</td>\n",
       "      <td>F</td>\n",
       "      <td>29</td>\n",
       "      <td>NC</td>\n",
       "      <td>0</td>\n",
       "    </tr>\n",
       "    <tr>\n",
       "      <th>3</th>\n",
       "      <td>S004.wav</td>\n",
       "      <td>S004</td>\n",
       "      <td>S004</td>\n",
       "      <td>71</td>\n",
       "      <td>F</td>\n",
       "      <td>30</td>\n",
       "      <td>NC</td>\n",
       "      <td>0</td>\n",
       "    </tr>\n",
       "    <tr>\n",
       "      <th>4</th>\n",
       "      <td>S005.wav</td>\n",
       "      <td>S005</td>\n",
       "      <td>S005</td>\n",
       "      <td>74</td>\n",
       "      <td>F</td>\n",
       "      <td>30</td>\n",
       "      <td>NC</td>\n",
       "      <td>0</td>\n",
       "    </tr>\n",
       "    <tr>\n",
       "      <th>...</th>\n",
       "      <td>...</td>\n",
       "      <td>...</td>\n",
       "      <td>...</td>\n",
       "      <td>...</td>\n",
       "      <td>...</td>\n",
       "      <td>...</td>\n",
       "      <td>...</td>\n",
       "      <td>...</td>\n",
       "    </tr>\n",
       "    <tr>\n",
       "      <th>151</th>\n",
       "      <td>S203.wav</td>\n",
       "      <td>S203</td>\n",
       "      <td>S203</td>\n",
       "      <td>56</td>\n",
       "      <td>M</td>\n",
       "      <td>18</td>\n",
       "      <td>AD</td>\n",
       "      <td>1</td>\n",
       "    </tr>\n",
       "    <tr>\n",
       "      <th>152</th>\n",
       "      <td>S204.wav</td>\n",
       "      <td>S204</td>\n",
       "      <td>S204</td>\n",
       "      <td>56</td>\n",
       "      <td>M</td>\n",
       "      <td>28</td>\n",
       "      <td>NC</td>\n",
       "      <td>0</td>\n",
       "    </tr>\n",
       "    <tr>\n",
       "      <th>153</th>\n",
       "      <td>S205.wav</td>\n",
       "      <td>S205</td>\n",
       "      <td>S205</td>\n",
       "      <td>50</td>\n",
       "      <td>M</td>\n",
       "      <td>23</td>\n",
       "      <td>AD</td>\n",
       "      <td>1</td>\n",
       "    </tr>\n",
       "    <tr>\n",
       "      <th>154</th>\n",
       "      <td>S206.wav</td>\n",
       "      <td>S206</td>\n",
       "      <td>S206</td>\n",
       "      <td>65</td>\n",
       "      <td>M</td>\n",
       "      <td>28</td>\n",
       "      <td>NC</td>\n",
       "      <td>0</td>\n",
       "    </tr>\n",
       "    <tr>\n",
       "      <th>155</th>\n",
       "      <td>S207.wav</td>\n",
       "      <td>S207</td>\n",
       "      <td>S207</td>\n",
       "      <td>57</td>\n",
       "      <td>F</td>\n",
       "      <td>27</td>\n",
       "      <td>NC</td>\n",
       "      <td>0</td>\n",
       "    </tr>\n",
       "  </tbody>\n",
       "</table>\n",
       "<p>156 rows × 8 columns</p>\n",
       "</div>"
      ],
      "text/plain": [
       "     filename record_id subject_id  age sex mmse  dx  dx_binary\n",
       "0    S001.wav      S001       S001   74   M   NA  NC          0\n",
       "1    S002.wav      S002       S002   62   F   30  NC          0\n",
       "2    S003.wav      S003       S003   69   F   29  NC          0\n",
       "3    S004.wav      S004       S004   71   F   30  NC          0\n",
       "4    S005.wav      S005       S005   74   F   30  NC          0\n",
       "..        ...       ...        ...  ...  ..  ...  ..        ...\n",
       "151  S203.wav      S203       S203   56   M   18  AD          1\n",
       "152  S204.wav      S204       S204   56   M   28  NC          0\n",
       "153  S205.wav      S205       S205   50   M   23  AD          1\n",
       "154  S206.wav      S206       S206   65   M   28  NC          0\n",
       "155  S207.wav      S207       S207   57   F   27  NC          0\n",
       "\n",
       "[156 rows x 8 columns]"
      ]
     },
     "execution_count": 23,
     "metadata": {},
     "output_type": "execute_result"
    }
   ],
   "source": [
    "merged_df = pd.concat([train_df, test_df])\n",
    "merged_df = merged_df.sort_values(by='filename')\n",
    "merged_df = merged_df.reset_index(drop=True)\n",
    "merged_df"
   ]
  },
  {
   "cell_type": "code",
   "execution_count": 24,
   "id": "fe3052f1-bbf4-4d4c-b00e-cc910133413c",
   "metadata": {},
   "outputs": [
    {
     "data": {
      "text/plain": [
       "156"
      ]
     },
     "execution_count": 24,
     "metadata": {},
     "output_type": "execute_result"
    }
   ],
   "source": [
    "train_df.shape[0] + test_df.shape[0]"
   ]
  },
  {
   "cell_type": "code",
   "execution_count": 25,
   "id": "b27c5587-ee98-4e48-b337-8bbe5669e448",
   "metadata": {},
   "outputs": [
    {
     "data": {
      "text/plain": [
       "dx\n",
       "NC    78\n",
       "AD    78\n",
       "Name: count, dtype: int64"
      ]
     },
     "execution_count": 25,
     "metadata": {},
     "output_type": "execute_result"
    }
   ],
   "source": [
    "merged_df['dx'].value_counts()"
   ]
  },
  {
   "cell_type": "markdown",
   "id": "d8443d16-1124-4703-8664-3199593c0cb9",
   "metadata": {},
   "source": [
    "## Save: metadata.csv"
   ]
  },
  {
   "cell_type": "code",
   "execution_count": 26,
   "id": "4f757b46-b752-413d-8107-41fb29438568",
   "metadata": {},
   "outputs": [],
   "source": [
    "output_dir = '/Users/jimuelcelestejr/Downloads/Dataset/ADReSS'\n",
    "output_file = os.path.join(output_dir, 'metadata.csv')\n",
    "merged_df.to_csv(output_file, index=False)"
   ]
  },
  {
   "cell_type": "markdown",
   "id": "23e5c0b9-cd1b-4700-b5be-bfc3cefbd214",
   "metadata": {},
   "source": [
    "## Check if all files are in the folder"
   ]
  },
  {
   "cell_type": "code",
   "execution_count": 27,
   "id": "af7ec4d1-2835-4ae8-ba9e-b2fa55756884",
   "metadata": {},
   "outputs": [
    {
     "name": "stdout",
     "output_type": "stream",
     "text": [
      "(156, 8) 156\n"
     ]
    }
   ],
   "source": [
    "metadata = pd.read_csv(output_file)\n",
    "i = 0\n",
    "for file in metadata['filename']:\n",
    "    file = os.path.join(output_dir)\n",
    "    if os.path.exists(file):\n",
    "        i += 1\n",
    "        # print(f\"'{file}' exists.\")\n",
    "    else:\n",
    "        print(f\"'{file}' does not exist.\")\n",
    "print(metadata.shape, i)"
   ]
  },
  {
   "cell_type": "markdown",
   "id": "91513c34-d10c-471a-86ce-2010bd0981d1",
   "metadata": {},
   "source": [
    "## Check if all files in the folder are in the metadata¶"
   ]
  },
  {
   "cell_type": "code",
   "execution_count": 28,
   "id": "9603be33-6e43-42a8-bcec-6aa41b6d1d84",
   "metadata": {},
   "outputs": [
    {
     "name": "stdout",
     "output_type": "stream",
     "text": [
      "156\n"
     ]
    }
   ],
   "source": [
    "i = 0\n",
    "for root, dirs, files in os.walk(output_dir):\n",
    "    for file in files:\n",
    "        base, ext = os.path.splitext(file)\n",
    "        if ext == '.wav':\n",
    "            if file in metadata['filename'].values:\n",
    "                i += 1\n",
    "            else:\n",
    "                print(f\"'{file}' not in metadata.\")\n",
    "print(i)"
   ]
  },
  {
   "cell_type": "code",
   "execution_count": null,
   "id": "b32843a8-6547-494f-8e80-aafdf11f6dfe",
   "metadata": {},
   "outputs": [],
   "source": []
  }
 ],
 "metadata": {
  "kernelspec": {
   "display_name": "Python 3 (ipykernel)",
   "language": "python",
   "name": "python3"
  },
  "language_info": {
   "codemirror_mode": {
    "name": "ipython",
    "version": 3
   },
   "file_extension": ".py",
   "mimetype": "text/x-python",
   "name": "python",
   "nbconvert_exporter": "python",
   "pygments_lexer": "ipython3",
   "version": "3.9.21"
  }
 },
 "nbformat": 4,
 "nbformat_minor": 5
}
